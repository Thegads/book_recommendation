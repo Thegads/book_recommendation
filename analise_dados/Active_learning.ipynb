{
 "cells": [
  {
   "cell_type": "code",
   "execution_count": 1,
   "metadata": {},
   "outputs": [
    {
     "name": "stdout",
     "output_type": "stream",
     "text": [
      "Populating the interactive namespace from numpy and matplotlib\n"
     ]
    }
   ],
   "source": [
    "import pandas as pd\n",
    "import numpy as np\n",
    "import re\n",
    "import time\n",
    "\n",
    "import bs4 as bs4\n",
    "import json\n",
    "\n",
    "import glob\n",
    "import tqdm\n",
    "\n",
    "pd.set_option('max.columns', 100)\n",
    "\n",
    "%matplotlib inline\n",
    "%pylab inline"
   ]
  },
  {
   "cell_type": "markdown",
   "metadata": {},
   "source": [
    "# Resultados do Active Learning"
   ]
  },
  {
   "cell_type": "code",
   "execution_count": 16,
   "metadata": {},
   "outputs": [
    {
     "data": {
      "text/plain": [
       "(272, 6)"
      ]
     },
     "execution_count": 16,
     "metadata": {},
     "output_type": "execute_result"
    }
   ],
   "source": [
    "df1 = pd.read_excel('sem_duplicate.xlsx')\n",
    "df1 = df1[df1['target'].notnull()]\n",
    "df1.shape"
   ]
  },
  {
   "cell_type": "code",
   "execution_count": 17,
   "metadata": {},
   "outputs": [
    {
     "data": {
      "text/plain": [
       "(124, 8)"
      ]
     },
     "execution_count": 17,
     "metadata": {},
     "output_type": "execute_result"
    }
   ],
   "source": [
    "df2 = pd.read_excel('active_label1.xlsx')\n",
    "df2 = df2[df2['target'].notnull()]\n",
    "df2['novo'] = 1\n",
    "df2.shape"
   ]
  },
  {
   "cell_type": "code",
   "execution_count": 18,
   "metadata": {},
   "outputs": [
    {
     "data": {
      "text/html": [
       "<div>\n",
       "<style scoped>\n",
       "    .dataframe tbody tr th:only-of-type {\n",
       "        vertical-align: middle;\n",
       "    }\n",
       "\n",
       "    .dataframe tbody tr th {\n",
       "        vertical-align: top;\n",
       "    }\n",
       "\n",
       "    .dataframe thead th {\n",
       "        text-align: right;\n",
       "    }\n",
       "</style>\n",
       "<table border=\"1\" class=\"dataframe\">\n",
       "  <thead>\n",
       "    <tr style=\"text-align: right;\">\n",
       "      <th></th>\n",
       "      <th>title</th>\n",
       "      <th>image</th>\n",
       "      <th>classification</th>\n",
       "      <th>url</th>\n",
       "      <th>reviews</th>\n",
       "      <th>p</th>\n",
       "      <th>target</th>\n",
       "      <th>novo</th>\n",
       "    </tr>\n",
       "  </thead>\n",
       "  <tbody>\n",
       "    <tr>\n",
       "      <th>0</th>\n",
       "      <td>Student's Solutions Manual for Statistics: The...</td>\n",
       "      <td>https://images-na.ssl-images-amazon.com/images...</td>\n",
       "      <td>5.0</td>\n",
       "      <td>https://www.amazon.com/Students-Solutions-Manu...</td>\n",
       "      <td>1</td>\n",
       "      <td>0.058105</td>\n",
       "      <td>0</td>\n",
       "      <td>1</td>\n",
       "    </tr>\n",
       "    <tr>\n",
       "      <th>1</th>\n",
       "      <td>Agile Machine Learning: Effective Machine Lear...</td>\n",
       "      <td>https://m.media-amazon.com/images/I/41YkiTR+Qv...</td>\n",
       "      <td>5.0</td>\n",
       "      <td>https://www.amazon.com/Agile-Machine-Learning-...</td>\n",
       "      <td>2</td>\n",
       "      <td>0.132468</td>\n",
       "      <td>1</td>\n",
       "      <td>1</td>\n",
       "    </tr>\n",
       "    <tr>\n",
       "      <th>2</th>\n",
       "      <td>Building Machine Learning and Deep Learning Mo...</td>\n",
       "      <td>https://images-na.ssl-images-amazon.com/images...</td>\n",
       "      <td>5.0</td>\n",
       "      <td>https://www.amazon.com/Building-Machine-Learni...</td>\n",
       "      <td>2</td>\n",
       "      <td>0.077000</td>\n",
       "      <td>1</td>\n",
       "      <td>1</td>\n",
       "    </tr>\n",
       "    <tr>\n",
       "      <th>3</th>\n",
       "      <td>Smarter Data Science: Succeeding with Enterpri...</td>\n",
       "      <td>https://images-na.ssl-images-amazon.com/images...</td>\n",
       "      <td>5.0</td>\n",
       "      <td>https://www.amazon.com/Smarter-Data-Science-Su...</td>\n",
       "      <td>2</td>\n",
       "      <td>0.116573</td>\n",
       "      <td>0</td>\n",
       "      <td>1</td>\n",
       "    </tr>\n",
       "    <tr>\n",
       "      <th>4</th>\n",
       "      <td>Hands-On Machine Learning with C++: Build, tra...</td>\n",
       "      <td>https://images-na.ssl-images-amazon.com/images...</td>\n",
       "      <td>5.0</td>\n",
       "      <td>https://www.amazon.com/Hands-Machine-Learning-...</td>\n",
       "      <td>2</td>\n",
       "      <td>0.105550</td>\n",
       "      <td>0</td>\n",
       "      <td>1</td>\n",
       "    </tr>\n",
       "  </tbody>\n",
       "</table>\n",
       "</div>"
      ],
      "text/plain": [
       "                                               title  \\\n",
       "0  Student's Solutions Manual for Statistics: The...   \n",
       "1  Agile Machine Learning: Effective Machine Lear...   \n",
       "2  Building Machine Learning and Deep Learning Mo...   \n",
       "3  Smarter Data Science: Succeeding with Enterpri...   \n",
       "4  Hands-On Machine Learning with C++: Build, tra...   \n",
       "\n",
       "                                               image  classification  \\\n",
       "0  https://images-na.ssl-images-amazon.com/images...             5.0   \n",
       "1  https://m.media-amazon.com/images/I/41YkiTR+Qv...             5.0   \n",
       "2  https://images-na.ssl-images-amazon.com/images...             5.0   \n",
       "3  https://images-na.ssl-images-amazon.com/images...             5.0   \n",
       "4  https://images-na.ssl-images-amazon.com/images...             5.0   \n",
       "\n",
       "                                                 url  reviews         p  \\\n",
       "0  https://www.amazon.com/Students-Solutions-Manu...        1  0.058105   \n",
       "1  https://www.amazon.com/Agile-Machine-Learning-...        2  0.132468   \n",
       "2  https://www.amazon.com/Building-Machine-Learni...        2  0.077000   \n",
       "3  https://www.amazon.com/Smarter-Data-Science-Su...        2  0.116573   \n",
       "4  https://www.amazon.com/Hands-Machine-Learning-...        2  0.105550   \n",
       "\n",
       "   target  novo  \n",
       "0       0     1  \n",
       "1       1     1  \n",
       "2       1     1  \n",
       "3       0     1  \n",
       "4       0     1  "
      ]
     },
     "execution_count": 18,
     "metadata": {},
     "output_type": "execute_result"
    }
   ],
   "source": [
    "df2.head()"
   ]
  },
  {
   "cell_type": "code",
   "execution_count": 19,
   "metadata": {},
   "outputs": [
    {
     "data": {
      "text/plain": [
       "(0.3038535366991084, 0.5027173913043479)"
      ]
     },
     "execution_count": 19,
     "metadata": {},
     "output_type": "execute_result"
    }
   ],
   "source": [
    "from sklearn.metrics import roc_auc_score, average_precision_score\n",
    "average_precision_score(df2['target'],df2['p']), roc_auc_score(df2['target'], df2['p'])"
   ]
  },
  {
   "cell_type": "code",
   "execution_count": 20,
   "metadata": {},
   "outputs": [],
   "source": [
    "df = pd.concat([df1, df2.drop('p', axis = 1)])"
   ]
  },
  {
   "cell_type": "code",
   "execution_count": 25,
   "metadata": {},
   "outputs": [
    {
     "data": {
      "text/html": [
       "<div>\n",
       "<style scoped>\n",
       "    .dataframe tbody tr th:only-of-type {\n",
       "        vertical-align: middle;\n",
       "    }\n",
       "\n",
       "    .dataframe tbody tr th {\n",
       "        vertical-align: top;\n",
       "    }\n",
       "\n",
       "    .dataframe thead th {\n",
       "        text-align: right;\n",
       "    }\n",
       "</style>\n",
       "<table border=\"1\" class=\"dataframe\">\n",
       "  <thead>\n",
       "    <tr style=\"text-align: right;\">\n",
       "      <th></th>\n",
       "      <th>title</th>\n",
       "      <th>image</th>\n",
       "      <th>classification</th>\n",
       "      <th>url</th>\n",
       "      <th>reviews</th>\n",
       "      <th>target</th>\n",
       "      <th>novo</th>\n",
       "    </tr>\n",
       "  </thead>\n",
       "  <tbody>\n",
       "    <tr>\n",
       "      <th>0</th>\n",
       "      <td>Artificial Intelligence, Machine Learning, and...</td>\n",
       "      <td>https://images-na.ssl-images-amazon.com/images...</td>\n",
       "      <td>5.0</td>\n",
       "      <td>https://www.amazon.com/Artificial-Intelligence...</td>\n",
       "      <td>1</td>\n",
       "      <td>1</td>\n",
       "      <td>NaN</td>\n",
       "    </tr>\n",
       "    <tr>\n",
       "      <th>1</th>\n",
       "      <td>Model-Based Clustering and Classification for ...</td>\n",
       "      <td>https://images-na.ssl-images-amazon.com/images...</td>\n",
       "      <td>5.0</td>\n",
       "      <td>https://www.amazon.com/Model-Based-Clustering-...</td>\n",
       "      <td>1</td>\n",
       "      <td>1</td>\n",
       "      <td>NaN</td>\n",
       "    </tr>\n",
       "    <tr>\n",
       "      <th>2</th>\n",
       "      <td>Spatial Modeling in GIS and R for Earth and En...</td>\n",
       "      <td>https://images-na.ssl-images-amazon.com/images...</td>\n",
       "      <td>5.0</td>\n",
       "      <td>https://www.amazon.com/Spatial-Modeling-Earth-...</td>\n",
       "      <td>1</td>\n",
       "      <td>1</td>\n",
       "      <td>NaN</td>\n",
       "    </tr>\n",
       "    <tr>\n",
       "      <th>3</th>\n",
       "      <td>Statistical Machine Learning: A Unified Framew...</td>\n",
       "      <td>https://images-na.ssl-images-amazon.com/images...</td>\n",
       "      <td>5.0</td>\n",
       "      <td>https://www.amazon.com/Statistical-Machine-Lea...</td>\n",
       "      <td>1</td>\n",
       "      <td>1</td>\n",
       "      <td>NaN</td>\n",
       "    </tr>\n",
       "    <tr>\n",
       "      <th>4</th>\n",
       "      <td>Data Science for Transport: A Self-Study Guide...</td>\n",
       "      <td>https://images-na.ssl-images-amazon.com/images...</td>\n",
       "      <td>5.0</td>\n",
       "      <td>https://www.amazon.com/Data-Science-Transport-...</td>\n",
       "      <td>1</td>\n",
       "      <td>0</td>\n",
       "      <td>NaN</td>\n",
       "    </tr>\n",
       "  </tbody>\n",
       "</table>\n",
       "</div>"
      ],
      "text/plain": [
       "                                               title  \\\n",
       "0  Artificial Intelligence, Machine Learning, and...   \n",
       "1  Model-Based Clustering and Classification for ...   \n",
       "2  Spatial Modeling in GIS and R for Earth and En...   \n",
       "3  Statistical Machine Learning: A Unified Framew...   \n",
       "4  Data Science for Transport: A Self-Study Guide...   \n",
       "\n",
       "                                               image  classification  \\\n",
       "0  https://images-na.ssl-images-amazon.com/images...             5.0   \n",
       "1  https://images-na.ssl-images-amazon.com/images...             5.0   \n",
       "2  https://images-na.ssl-images-amazon.com/images...             5.0   \n",
       "3  https://images-na.ssl-images-amazon.com/images...             5.0   \n",
       "4  https://images-na.ssl-images-amazon.com/images...             5.0   \n",
       "\n",
       "                                                 url  reviews  target  novo  \n",
       "0  https://www.amazon.com/Artificial-Intelligence...        1       1   NaN  \n",
       "1  https://www.amazon.com/Model-Based-Clustering-...        1       1   NaN  \n",
       "2  https://www.amazon.com/Spatial-Modeling-Earth-...        1       1   NaN  \n",
       "3  https://www.amazon.com/Statistical-Machine-Lea...        1       1   NaN  \n",
       "4  https://www.amazon.com/Data-Science-Transport-...        1       0   NaN  "
      ]
     },
     "execution_count": 25,
     "metadata": {},
     "output_type": "execute_result"
    }
   ],
   "source": [
    "df.head()"
   ]
  },
  {
   "cell_type": "code",
   "execution_count": 10,
   "metadata": {},
   "outputs": [],
   "source": [
    "from sklearn.linear_model import LogisticRegression\n",
    "from sklearn.ensemble import RandomForestClassifier"
   ]
  },
  {
   "cell_type": "code",
   "execution_count": 21,
   "metadata": {},
   "outputs": [],
   "source": [
    "df_limpo = pd.DataFrame(index = df.index)\n",
    "df_limpo['title'] = df['title']\n",
    "df_limpo['novo'] = df['novo'].fillna(0)"
   ]
  },
  {
   "cell_type": "code",
   "execution_count": 22,
   "metadata": {},
   "outputs": [
    {
     "data": {
      "text/plain": [
       "(396, 7)"
      ]
     },
     "execution_count": 22,
     "metadata": {},
     "output_type": "execute_result"
    }
   ],
   "source": [
    "df.shape"
   ]
  },
  {
   "cell_type": "code",
   "execution_count": 24,
   "metadata": {},
   "outputs": [
    {
     "data": {
      "text/plain": [
       "0.0    272\n",
       "1.0    124\n",
       "Name: novo, dtype: int64"
      ]
     },
     "execution_count": 24,
     "metadata": {},
     "output_type": "execute_result"
    }
   ],
   "source": [
    "df_limpo['novo'].value_counts()"
   ]
  },
  {
   "cell_type": "code",
   "execution_count": 26,
   "metadata": {},
   "outputs": [],
   "source": [
    "mask = ['classification','reviews']\n",
    "features = df[mask]"
   ]
  },
  {
   "cell_type": "code",
   "execution_count": 27,
   "metadata": {},
   "outputs": [],
   "source": [
    "y = df['target'].copy()"
   ]
  },
  {
   "cell_type": "code",
   "execution_count": 39,
   "metadata": {},
   "outputs": [
    {
     "data": {
      "text/plain": [
       "((160, 2), (236, 2), (160,), (236,))"
      ]
     },
     "execution_count": 39,
     "metadata": {},
     "output_type": "execute_result"
    }
   ],
   "source": [
    "mask_train = df_limpo[:160]\n",
    "\n",
    "mask_val = df_limpo[160:]\n",
    "\n",
    "Xtrain, Xval = features[:160], features[160:]\n",
    "ytrain, yval = y[:160], y[160:]\n",
    "Xtrain.shape, Xval.shape, ytrain.shape, yval.shape"
   ]
  },
  {
   "cell_type": "code",
   "execution_count": 41,
   "metadata": {},
   "outputs": [],
   "source": [
    "from sklearn.feature_extraction.text import TfidfVectorizer\n",
    "\n",
    "title_train = df_limpo[:160]['title']\n",
    "title_val = df_limpo[160:]['title']\n",
    "\n",
    "title_vec = TfidfVectorizer(min_df = 2)\n",
    "title_bow_train = title_vec.fit_transform(title_train)\n",
    "title_bow_val = title_vec.transform(title_val)"
   ]
  },
  {
   "cell_type": "code",
   "execution_count": 42,
   "metadata": {},
   "outputs": [],
   "source": [
    "from scipy.sparse import hstack"
   ]
  },
  {
   "cell_type": "code",
   "execution_count": 43,
   "metadata": {},
   "outputs": [
    {
     "data": {
      "text/plain": [
       "((160, 180), (236, 180))"
      ]
     },
     "execution_count": 43,
     "metadata": {},
     "output_type": "execute_result"
    }
   ],
   "source": [
    "Xtrain_wtitle = hstack([Xtrain, title_bow_train])\n",
    "Xval_wtitle = hstack([Xval, title_bow_val])\n",
    "Xtrain_wtitle.shape, Xval_wtitle.shape"
   ]
  },
  {
   "cell_type": "code",
   "execution_count": 44,
   "metadata": {},
   "outputs": [
    {
     "data": {
      "text/plain": [
       "RandomForestClassifier(class_weight='balanced', n_estimators=1000, n_jobs=6,\n",
       "                       random_state=0)"
      ]
     },
     "execution_count": 44,
     "metadata": {},
     "output_type": "execute_result"
    }
   ],
   "source": [
    "mdl = RandomForestClassifier(n_estimators=1000, random_state = 0, class_weight = 'balanced', n_jobs = 6)\n",
    "mdl.fit(Xtrain_wtitle, ytrain)"
   ]
  },
  {
   "cell_type": "code",
   "execution_count": 45,
   "metadata": {},
   "outputs": [],
   "source": [
    "p = mdl.predict_proba(Xval_wtitle)[:,1]"
   ]
  },
  {
   "cell_type": "code",
   "execution_count": 46,
   "metadata": {},
   "outputs": [],
   "source": [
    "from sklearn.metrics import roc_auc_score, average_precision_score"
   ]
  },
  {
   "cell_type": "code",
   "execution_count": 47,
   "metadata": {},
   "outputs": [
    {
     "data": {
      "text/plain": [
       "(0.24683581103698116, 0.5023317435082141)"
      ]
     },
     "execution_count": 47,
     "metadata": {},
     "output_type": "execute_result"
    }
   ],
   "source": [
    "average_precision_score(yval, p), roc_auc_score(yval, p)"
   ]
  },
  {
   "cell_type": "markdown",
   "metadata": {},
   "source": [
    "# aumentar o treino"
   ]
  },
  {
   "cell_type": "code",
   "execution_count": 49,
   "metadata": {},
   "outputs": [
    {
     "data": {
      "text/plain": [
       "(0.25377589358062025, 0.48014121800529574)"
      ]
     },
     "execution_count": 49,
     "metadata": {},
     "output_type": "execute_result"
    }
   ],
   "source": [
    "Xtrain2, Xval2 = features[:260], features[260:]\n",
    "ytrain2, yval2 = y[:260], y[260:]\n",
    "\n",
    "title_train2 = df_limpo[:260]['title']\n",
    "title_val2 = df_limpo[260:]['title']\n",
    "\n",
    "title_vec2 = TfidfVectorizer(min_df = 2)\n",
    "title_bow_train2 = title_vec2.fit_transform(title_train2)\n",
    "title_bow_val2 = title_vec2.transform(title_val2)\n",
    "\n",
    "Xtrain_wtitle2 = hstack([Xtrain2, title_bow_train2])\n",
    "Xval_wtitle2 = hstack([Xval2, title_bow_val2])\n",
    "\n",
    "mdl2 = RandomForestClassifier(n_estimators=1000, random_state = 0, class_weight = 'balanced', n_jobs = 6)\n",
    "mdl2.fit(Xtrain_wtitle2, ytrain2)\n",
    "\n",
    "p2 = mdl2.predict_proba(Xval_wtitle2)[:,1]\n",
    "\n",
    "average_precision_score(yval2, p2), roc_auc_score(yval2, p2)"
   ]
  },
  {
   "cell_type": "markdown",
   "metadata": {},
   "source": [
    "ap 0.17585895310304805 auc 0.48799313893653506\n",
    "\n",
    "ap 0.24683581103698116 auc 0.5023317435082141\n",
    "\n",
    "ap 0.25377589358062025 auc 0.48014121800529574"
   ]
  }
 ],
 "metadata": {
  "kernelspec": {
   "display_name": "Python 3",
   "language": "python",
   "name": "python3"
  },
  "language_info": {
   "codemirror_mode": {
    "name": "ipython",
    "version": 3
   },
   "file_extension": ".py",
   "mimetype": "text/x-python",
   "name": "python",
   "nbconvert_exporter": "python",
   "pygments_lexer": "ipython3",
   "version": "3.7.7"
  }
 },
 "nbformat": 4,
 "nbformat_minor": 4
}
