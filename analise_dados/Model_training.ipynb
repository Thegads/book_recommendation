{
 "cells": [
  {
   "cell_type": "code",
   "execution_count": 1,
   "metadata": {},
   "outputs": [
    {
     "name": "stdout",
     "output_type": "stream",
     "text": [
      "Populating the interactive namespace from numpy and matplotlib\n"
     ]
    }
   ],
   "source": [
    "import pandas as pd\n",
    "import numpy as np\n",
    "import re\n",
    "import time\n",
    "\n",
    "import bs4 as bs4\n",
    "import json\n",
    "\n",
    "import glob\n",
    "import tqdm\n",
    "\n",
    "pd.set_option(\"max.columns\", 131)\n",
    "\n",
    "#https://strftime.org/\n",
    "%matplotlib inline\n",
    "%pylab inline"
   ]
  },
  {
   "cell_type": "code",
   "execution_count": 2,
   "metadata": {},
   "outputs": [],
   "source": [
    "df = pd.read_excel('novos dados.xlsx')"
   ]
  },
  {
   "cell_type": "code",
   "execution_count": 3,
   "metadata": {},
   "outputs": [],
   "source": [
    "from sklearn.linear_model import LogisticRegression\n",
    "from sklearn.ensemble import RandomForestClassifier"
   ]
  },
  {
   "cell_type": "code",
   "execution_count": 4,
   "metadata": {},
   "outputs": [],
   "source": [
    "df_limpo = pd.DataFrame(index = df.index)\n",
    "df_limpo['title'] = df['title']"
   ]
  },
  {
   "cell_type": "code",
   "execution_count": 5,
   "metadata": {},
   "outputs": [
    {
     "data": {
      "text/html": [
       "<div>\n",
       "<style scoped>\n",
       "    .dataframe tbody tr th:only-of-type {\n",
       "        vertical-align: middle;\n",
       "    }\n",
       "\n",
       "    .dataframe tbody tr th {\n",
       "        vertical-align: top;\n",
       "    }\n",
       "\n",
       "    .dataframe thead th {\n",
       "        text-align: right;\n",
       "    }\n",
       "</style>\n",
       "<table border=\"1\" class=\"dataframe\">\n",
       "  <thead>\n",
       "    <tr style=\"text-align: right;\">\n",
       "      <th></th>\n",
       "      <th>classification</th>\n",
       "      <th>reviews</th>\n",
       "    </tr>\n",
       "  </thead>\n",
       "  <tbody>\n",
       "    <tr>\n",
       "      <th>0</th>\n",
       "      <td>4.1</td>\n",
       "      <td>32</td>\n",
       "    </tr>\n",
       "    <tr>\n",
       "      <th>1</th>\n",
       "      <td>4.4</td>\n",
       "      <td>3</td>\n",
       "    </tr>\n",
       "    <tr>\n",
       "      <th>2</th>\n",
       "      <td>4.2</td>\n",
       "      <td>18</td>\n",
       "    </tr>\n",
       "    <tr>\n",
       "      <th>3</th>\n",
       "      <td>4.7</td>\n",
       "      <td>17</td>\n",
       "    </tr>\n",
       "    <tr>\n",
       "      <th>4</th>\n",
       "      <td>4.3</td>\n",
       "      <td>108</td>\n",
       "    </tr>\n",
       "    <tr>\n",
       "      <th>...</th>\n",
       "      <td>...</td>\n",
       "      <td>...</td>\n",
       "    </tr>\n",
       "    <tr>\n",
       "      <th>669</th>\n",
       "      <td>3.1</td>\n",
       "      <td>12</td>\n",
       "    </tr>\n",
       "    <tr>\n",
       "      <th>670</th>\n",
       "      <td>3.0</td>\n",
       "      <td>1</td>\n",
       "    </tr>\n",
       "    <tr>\n",
       "      <th>671</th>\n",
       "      <td>3.0</td>\n",
       "      <td>2</td>\n",
       "    </tr>\n",
       "    <tr>\n",
       "      <th>672</th>\n",
       "      <td>2.9</td>\n",
       "      <td>5</td>\n",
       "    </tr>\n",
       "    <tr>\n",
       "      <th>673</th>\n",
       "      <td>2.2</td>\n",
       "      <td>4</td>\n",
       "    </tr>\n",
       "  </tbody>\n",
       "</table>\n",
       "<p>674 rows × 2 columns</p>\n",
       "</div>"
      ],
      "text/plain": [
       "     classification  reviews\n",
       "0               4.1       32\n",
       "1               4.4        3\n",
       "2               4.2       18\n",
       "3               4.7       17\n",
       "4               4.3      108\n",
       "..              ...      ...\n",
       "669             3.1       12\n",
       "670             3.0        1\n",
       "671             3.0        2\n",
       "672             2.9        5\n",
       "673             2.2        4\n",
       "\n",
       "[674 rows x 2 columns]"
      ]
     },
     "execution_count": 5,
     "metadata": {},
     "output_type": "execute_result"
    }
   ],
   "source": [
    "mask = ['classification','reviews']\n",
    "treinar = df[mask]\n",
    "treinar"
   ]
  },
  {
   "cell_type": "code",
   "execution_count": 6,
   "metadata": {},
   "outputs": [],
   "source": [
    "y = df['target']"
   ]
  },
  {
   "cell_type": "markdown",
   "metadata": {},
   "source": [
    "## 3. Features"
   ]
  },
  {
   "cell_type": "code",
   "execution_count": 7,
   "metadata": {},
   "outputs": [
    {
     "data": {
      "text/plain": [
       "((300, 2), (374, 2), (300,), (374,))"
      ]
     },
     "execution_count": 7,
     "metadata": {},
     "output_type": "execute_result"
    }
   ],
   "source": [
    "# mask_train = df_limpo['date'] < \"2019-04-01\"\n",
    "# mask_val = (df_limpo['date'] >= \"2019-04-01\")\n",
    "\n",
    "title_train = df_limpo[:300]['title']\n",
    "title_val = df_limpo[300:]['title']\n",
    "\n",
    "# Xtrain, Xval = features[mask_train], features[mask_val]\n",
    "# ytrain, yval = y[mask_train], y[mask_val]\n",
    "Xtrain, Xval = treinar[:300], treinar[300:]\n",
    "ytrain, yval = y[:300], y[300:]\n",
    "Xtrain.shape, Xval.shape, ytrain.shape, yval.shape"
   ]
  },
  {
   "cell_type": "code",
   "execution_count": 27,
   "metadata": {},
   "outputs": [],
   "source": [
    "from sklearn.feature_extraction.text import TfidfVectorizer\n",
    "\n",
    "# title_train = df_limpo[mask_train]['title']\n",
    "# title_val = df_limpo[mask_val]['title']\n",
    "title_train = df_limpo[:300]['title']\n",
    "title_val = df_limpo[300:]['title']\n",
    "\n",
    "title_vec = TfidfVectorizer(min_df=4, ngram_range=(1,5))\n",
    "title_bow_train = title_vec.fit_transform(title_train)\n",
    "title_bow_val = title_vec.transform(title_val)\n"
   ]
  },
  {
   "cell_type": "code",
   "execution_count": 28,
   "metadata": {},
   "outputs": [
    {
     "data": {
      "text/plain": [
       "(300, 435)"
      ]
     },
     "execution_count": 28,
     "metadata": {},
     "output_type": "execute_result"
    }
   ],
   "source": [
    "title_bow_train.shape"
   ]
  },
  {
   "cell_type": "code",
   "execution_count": 29,
   "metadata": {},
   "outputs": [],
   "source": [
    "from scipy.sparse import hstack, vstack\n",
    "\n",
    "Xtrain_wtitle = hstack([Xtrain, title_bow_train])\n",
    "Xval_wtitle = hstack([Xval, title_bow_val])"
   ]
  },
  {
   "cell_type": "code",
   "execution_count": 30,
   "metadata": {},
   "outputs": [
    {
     "data": {
      "text/plain": [
       "((300, 437), (374, 437))"
      ]
     },
     "execution_count": 30,
     "metadata": {},
     "output_type": "execute_result"
    }
   ],
   "source": [
    "Xtrain_wtitle.shape, Xval_wtitle.shape"
   ]
  },
  {
   "cell_type": "markdown",
   "metadata": {},
   "source": [
    "# 4 Random Forest"
   ]
  },
  {
   "cell_type": "code",
   "execution_count": 31,
   "metadata": {},
   "outputs": [
    {
     "data": {
      "text/plain": [
       "RandomForestClassifier(class_weight='balanced', n_estimators=1000, n_jobs=6,\n",
       "                       random_state=0)"
      ]
     },
     "execution_count": 31,
     "metadata": {},
     "output_type": "execute_result"
    }
   ],
   "source": [
    "mdl = RandomForestClassifier(n_estimators=1000, random_state=0, min_samples_leaf=1, class_weight=\"balanced\", n_jobs=6)\n",
    "mdl.fit(Xtrain_wtitle, ytrain)"
   ]
  },
  {
   "cell_type": "code",
   "execution_count": 32,
   "metadata": {},
   "outputs": [],
   "source": [
    "p = mdl.predict_proba(Xval_wtitle)[:, 1]"
   ]
  },
  {
   "cell_type": "code",
   "execution_count": 33,
   "metadata": {},
   "outputs": [],
   "source": [
    "from sklearn.metrics import roc_auc_score, average_precision_score"
   ]
  },
  {
   "cell_type": "code",
   "execution_count": 34,
   "metadata": {},
   "outputs": [
    {
     "data": {
      "text/plain": [
       "0.30155719798566594"
      ]
     },
     "execution_count": 34,
     "metadata": {},
     "output_type": "execute_result"
    }
   ],
   "source": [
    "average_precision_score(yval, p)"
   ]
  },
  {
   "cell_type": "code",
   "execution_count": 35,
   "metadata": {},
   "outputs": [
    {
     "data": {
      "text/plain": [
       "0.4908476485497043"
      ]
     },
     "execution_count": 35,
     "metadata": {},
     "output_type": "execute_result"
    }
   ],
   "source": [
    "roc_auc_score(yval, p)"
   ]
  },
  {
   "cell_type": "markdown",
   "metadata": {},
   "source": [
    "# 5 LightGBM"
   ]
  },
  {
   "cell_type": "code",
   "execution_count": 17,
   "metadata": {},
   "outputs": [],
   "source": [
    "from lightgbm import LGBMClassifier"
   ]
  },
  {
   "cell_type": "code",
   "execution_count": 36,
   "metadata": {},
   "outputs": [
    {
     "data": {
      "text/plain": [
       "LGBMClassifier(bagging_freq=1, class_weight='balanced',\n",
       "               colsample_bytree=0.19713289098659126,\n",
       "               learning_rate=0.012750003188347398, max_depth=6,\n",
       "               min_child_samples=7, n_estimators=685, n_jobs=6, num_leaves=16,\n",
       "               random_state=0, subsample=0.6283707044270589)"
      ]
     },
     "execution_count": 36,
     "metadata": {},
     "output_type": "execute_result"
    }
   ],
   "source": [
    "mdl = LGBMClassifier(learning_rate= 0.012750003188347398, num_leaves= 16, max_depth=6, \n",
    "                         min_child_samples=7, subsample=0.6283707044270589,\n",
    "                         colsample_bytree=0.19713289098659126, bagging_freq=1,n_estimators=685, random_state=0, \n",
    "                         class_weight=\"balanced\", n_jobs=6)\n",
    "mdl.fit(Xtrain_wtitle, ytrain)"
   ]
  },
  {
   "cell_type": "code",
   "execution_count": 37,
   "metadata": {},
   "outputs": [
    {
     "name": "stderr",
     "output_type": "stream",
     "text": [
      "C:\\Users\\Gustavo\\Anaconda3\\envs\\to_deploy\\lib\\site-packages\\lightgbm\\basic.py:546: UserWarning: Converting data to scipy sparse matrix.\n",
      "  warnings.warn('Converting data to scipy sparse matrix.')\n"
     ]
    }
   ],
   "source": [
    "p = mdl.predict_proba(Xval_wtitle)[:, 1]"
   ]
  },
  {
   "cell_type": "code",
   "execution_count": 26,
   "metadata": {},
   "outputs": [
    {
     "data": {
      "text/plain": [
       "[0.012750003188347398,\n",
       " 6,\n",
       " 7,\n",
       " 0.6283707044270589,\n",
       " 0.19713289098659126,\n",
       " 685,\n",
       " 4,\n",
       " 5]"
      ]
     },
     "execution_count": 26,
     "metadata": {},
     "output_type": "execute_result"
    }
   ],
   "source": [
    "space = [(1e-3, 1e-1, 'log-uniform'), # lr\n",
    "          (1, 15), # max_depth\n",
    "          (1, 20), # min_child_samples\n",
    "          (0.05, 1.), # subsample\n",
    "          (0.05, 1.), # colsample_bytree\n",
    "          (100,1000), # n_estimators\n",
    "          (1,5), # min_df\n",
    "          (1,5)] # ngram_range\n",
    "res.x"
   ]
  },
  {
   "cell_type": "code",
   "execution_count": null,
   "metadata": {},
   "outputs": [],
   "source": [
    "[0.012250750764764855, 8, 6, 0.5976582413192033, 0.2474882432951916, 516, 4, 4]"
   ]
  },
  {
   "cell_type": "code",
   "execution_count": 38,
   "metadata": {},
   "outputs": [
    {
     "data": {
      "text/plain": [
       "(0.3474028562435173, 0.48285694170656157)"
      ]
     },
     "execution_count": 38,
     "metadata": {},
     "output_type": "execute_result"
    }
   ],
   "source": [
    "average_precision_score(yval, p), roc_auc_score(yval, p)"
   ]
  },
  {
   "cell_type": "code",
   "execution_count": null,
   "metadata": {},
   "outputs": [],
   "source": [
    "(0.27455058995659876, 0.4762390875809631)"
   ]
  },
  {
   "cell_type": "markdown",
   "metadata": {},
   "source": [
    "# 6 Bayesian Optimization"
   ]
  },
  {
   "cell_type": "code",
   "execution_count": 21,
   "metadata": {},
   "outputs": [],
   "source": [
    "from skopt import forest_minimize"
   ]
  },
  {
   "cell_type": "code",
   "execution_count": 25,
   "metadata": {
    "collapsed": true,
    "jupyter": {
     "outputs_hidden": true
    }
   },
   "outputs": [
    {
     "name": "stdout",
     "output_type": "stream",
     "text": [
      "Iteration No: 1 started. Evaluating function at random point.\n",
      "[0.009944912110647982, 5, 1, 0.4677107511929402, 0.49263223036174764, 272, 3, 1]\n"
     ]
    },
    {
     "name": "stderr",
     "output_type": "stream",
     "text": [
      "C:\\Users\\Gustavo\\Anaconda3\\envs\\to_deploy\\lib\\site-packages\\lightgbm\\basic.py:546: UserWarning: Converting data to scipy sparse matrix.\n",
      "  warnings.warn('Converting data to scipy sparse matrix.')\n",
      "C:\\Users\\Gustavo\\Anaconda3\\envs\\to_deploy\\lib\\site-packages\\lightgbm\\basic.py:546: UserWarning: Converting data to scipy sparse matrix.\n",
      "  warnings.warn('Converting data to scipy sparse matrix.')\n"
     ]
    },
    {
     "name": "stdout",
     "output_type": "stream",
     "text": [
      "0.4761686848774993\n",
      "Iteration No: 1 ended. Evaluation done at random point.\n",
      "Time taken: 0.2922\n",
      "Function value obtained: -0.3102\n",
      "Current minimum: -0.3102\n",
      "Iteration No: 2 started. Evaluating function at random point.\n",
      "[0.053887464791860025, 1, 15, 0.7437489153990157, 0.8675167974293533, 549, 3, 4]\n",
      "0.4841241903689102\n",
      "Iteration No: 2 ended. Evaluation done at random point.\n",
      "Time taken: 0.1895\n",
      "Function value obtained: -0.3010\n",
      "Current minimum: -0.3102\n",
      "Iteration No: 3 started. Evaluating function at random point.\n",
      "[0.004151454520895999, 6, 20, 0.8682075103820793, 0.9491436163200662, 411, 4, 3]\n"
     ]
    },
    {
     "name": "stderr",
     "output_type": "stream",
     "text": [
      "C:\\Users\\Gustavo\\Anaconda3\\envs\\to_deploy\\lib\\site-packages\\lightgbm\\basic.py:546: UserWarning: Converting data to scipy sparse matrix.\n",
      "  warnings.warn('Converting data to scipy sparse matrix.')\n"
     ]
    },
    {
     "name": "stdout",
     "output_type": "stream",
     "text": [
      "0.48496902281047605\n",
      "Iteration No: 3 ended. Evaluation done at random point.\n",
      "Time taken: 0.2264\n",
      "Function value obtained: -0.2806\n",
      "Current minimum: -0.3102\n",
      "Iteration No: 4 started. Evaluating function at random point.\n",
      "[0.0014099928811969545, 9, 9, 0.6502182010234373, 0.6866210554187129, 828, 5, 2]\n"
     ]
    },
    {
     "name": "stderr",
     "output_type": "stream",
     "text": [
      "C:\\Users\\Gustavo\\Anaconda3\\envs\\to_deploy\\lib\\site-packages\\lightgbm\\basic.py:546: UserWarning: Converting data to scipy sparse matrix.\n",
      "  warnings.warn('Converting data to scipy sparse matrix.')\n",
      "C:\\Users\\Gustavo\\Anaconda3\\envs\\to_deploy\\lib\\site-packages\\lightgbm\\basic.py:546: UserWarning: Converting data to scipy sparse matrix.\n",
      "  warnings.warn('Converting data to scipy sparse matrix.')\n"
     ]
    },
    {
     "name": "stdout",
     "output_type": "stream",
     "text": [
      "0.45198535623767955\n",
      "Iteration No: 4 ended. Evaluation done at random point.\n",
      "Time taken: 0.5366\n",
      "Function value obtained: -0.2719\n",
      "Current minimum: -0.3102\n",
      "Iteration No: 5 started. Evaluating function at random point.\n",
      "[0.08530558241838007, 8, 19, 0.2137736299768322, 0.1313765544201984, 961, 4, 1]\n",
      "0.501126443255421\n",
      "Iteration No: 5 ended. Evaluation done at random point.\n",
      "Time taken: 0.1366\n",
      "Function value obtained: -0.3071\n",
      "Current minimum: -0.3102\n",
      "Iteration No: 6 started. Evaluating function at random point.\n",
      "[0.003567949451535685, 13, 19, 0.7232951768944309, 0.7298538828427115, 939, 4, 3]\n"
     ]
    },
    {
     "name": "stderr",
     "output_type": "stream",
     "text": [
      "C:\\Users\\Gustavo\\Anaconda3\\envs\\to_deploy\\lib\\site-packages\\lightgbm\\basic.py:546: UserWarning: Converting data to scipy sparse matrix.\n",
      "  warnings.warn('Converting data to scipy sparse matrix.')\n"
     ]
    },
    {
     "name": "stdout",
     "output_type": "stream",
     "text": [
      "0.4897212052942833\n",
      "Iteration No: 6 ended. Evaluation done at random point.\n",
      "Time taken: 2.4634\n",
      "Function value obtained: -0.2863\n",
      "Current minimum: -0.3102\n",
      "Iteration No: 7 started. Evaluating function at random point.\n",
      "[0.014828577273549474, 7, 1, 0.18428087097824575, 0.3261556557915816, 274, 1, 2]\n"
     ]
    },
    {
     "name": "stderr",
     "output_type": "stream",
     "text": [
      "C:\\Users\\Gustavo\\Anaconda3\\envs\\to_deploy\\lib\\site-packages\\lightgbm\\basic.py:546: UserWarning: Converting data to scipy sparse matrix.\n",
      "  warnings.warn('Converting data to scipy sparse matrix.')\n"
     ]
    },
    {
     "name": "stdout",
     "output_type": "stream",
     "text": [
      "0.4678435651929035\n",
      "Iteration No: 7 ended. Evaluation done at random point.\n",
      "Time taken: 0.5146\n",
      "Function value obtained: -0.2815\n",
      "Current minimum: -0.3102\n",
      "Iteration No: 8 started. Evaluating function at random point.\n",
      "[0.0015212976972079912, 14, 3, 0.8183084505971293, 0.7859673038076707, 189, 5, 3]\n"
     ]
    },
    {
     "name": "stderr",
     "output_type": "stream",
     "text": [
      "C:\\Users\\Gustavo\\Anaconda3\\envs\\to_deploy\\lib\\site-packages\\lightgbm\\basic.py:546: UserWarning: Converting data to scipy sparse matrix.\n",
      "  warnings.warn('Converting data to scipy sparse matrix.')\n"
     ]
    },
    {
     "name": "stdout",
     "output_type": "stream",
     "text": [
      "0.4657842861165869\n",
      "Iteration No: 8 ended. Evaluation done at random point.\n",
      "Time taken: 5.9719\n",
      "Function value obtained: -0.2842\n",
      "Current minimum: -0.3102\n",
      "Iteration No: 9 started. Evaluating function at random point.\n",
      "[0.009565866803971352, 6, 18, 0.5235636153223084, 0.6728679300083596, 747, 4, 5]\n"
     ]
    },
    {
     "name": "stderr",
     "output_type": "stream",
     "text": [
      "C:\\Users\\Gustavo\\Anaconda3\\envs\\to_deploy\\lib\\site-packages\\lightgbm\\basic.py:546: UserWarning: Converting data to scipy sparse matrix.\n",
      "  warnings.warn('Converting data to scipy sparse matrix.')\n"
     ]
    },
    {
     "name": "stdout",
     "output_type": "stream",
     "text": [
      "0.5046113770768798\n",
      "Iteration No: 9 ended. Evaluation done at random point.\n",
      "Time taken: 0.2872\n",
      "Function value obtained: -0.2970\n",
      "Current minimum: -0.3102\n",
      "Iteration No: 10 started. Evaluating function at random point.\n",
      "[0.0012116790683302117, 3, 2, 0.06616307483844217, 0.23025600705315752, 677, 2, 5]\n"
     ]
    },
    {
     "name": "stderr",
     "output_type": "stream",
     "text": [
      "C:\\Users\\Gustavo\\Anaconda3\\envs\\to_deploy\\lib\\site-packages\\lightgbm\\basic.py:546: UserWarning: Converting data to scipy sparse matrix.\n",
      "  warnings.warn('Converting data to scipy sparse matrix.')\n"
     ]
    },
    {
     "name": "stdout",
     "output_type": "stream",
     "text": [
      "0.49633905941988166\n",
      "Iteration No: 10 ended. Evaluation done at random point.\n",
      "Time taken: 0.4646\n",
      "Function value obtained: -0.2944\n",
      "Current minimum: -0.3102\n",
      "Iteration No: 11 started. Evaluating function at random point.\n",
      "[0.0053139776214487944, 6, 9, 0.14251441334450304, 0.8175761405215897, 297, 1, 5]\n"
     ]
    },
    {
     "name": "stderr",
     "output_type": "stream",
     "text": [
      "C:\\Users\\Gustavo\\Anaconda3\\envs\\to_deploy\\lib\\site-packages\\lightgbm\\basic.py:546: UserWarning: Converting data to scipy sparse matrix.\n",
      "  warnings.warn('Converting data to scipy sparse matrix.')\n"
     ]
    },
    {
     "name": "stdout",
     "output_type": "stream",
     "text": [
      "0.4928013235708251\n",
      "Iteration No: 11 ended. Evaluation done at random point.\n",
      "Time taken: 0.3112\n",
      "Function value obtained: -0.2859\n",
      "Current minimum: -0.3102\n",
      "Iteration No: 12 started. Evaluating function at random point.\n",
      "[0.0068572961982704935, 10, 5, 0.2390386584472456, 0.49053406102209746, 176, 2, 4]\n"
     ]
    },
    {
     "name": "stderr",
     "output_type": "stream",
     "text": [
      "C:\\Users\\Gustavo\\Anaconda3\\envs\\to_deploy\\lib\\site-packages\\lightgbm\\basic.py:546: UserWarning: Converting data to scipy sparse matrix.\n",
      "  warnings.warn('Converting data to scipy sparse matrix.')\n",
      "C:\\Users\\Gustavo\\Anaconda3\\envs\\to_deploy\\lib\\site-packages\\lightgbm\\basic.py:546: UserWarning: Converting data to scipy sparse matrix.\n",
      "  warnings.warn('Converting data to scipy sparse matrix.')\n"
     ]
    },
    {
     "name": "stdout",
     "output_type": "stream",
     "text": [
      "0.4564559279076317\n",
      "Iteration No: 12 ended. Evaluation done at random point.\n",
      "Time taken: 0.2230\n",
      "Function value obtained: -0.2771\n",
      "Current minimum: -0.3102\n",
      "Iteration No: 13 started. Evaluating function at random point.\n",
      "[0.00781968225875022, 3, 4, 0.7078936710077383, 0.31818755505678337, 275, 4, 4]\n"
     ]
    },
    {
     "name": "stderr",
     "output_type": "stream",
     "text": [
      "C:\\Users\\Gustavo\\Anaconda3\\envs\\to_deploy\\lib\\site-packages\\lightgbm\\basic.py:546: UserWarning: Converting data to scipy sparse matrix.\n",
      "  warnings.warn('Converting data to scipy sparse matrix.')\n"
     ]
    },
    {
     "name": "stdout",
     "output_type": "stream",
     "text": [
      "0.46071529146719237\n",
      "Iteration No: 13 ended. Evaluation done at random point.\n",
      "Time taken: 0.1811\n",
      "Function value obtained: -0.2997\n",
      "Current minimum: -0.3102\n",
      "Iteration No: 14 started. Evaluating function at random point.\n",
      "[0.017293945600511968, 2, 15, 0.9007557574888567, 0.41026441194439994, 316, 5, 1]\n",
      "0.505632216277105\n",
      "Iteration No: 14 ended. Evaluation done at random point.\n",
      "Time taken: 0.1097\n",
      "Function value obtained: -0.3076\n",
      "Current minimum: -0.3102\n",
      "Iteration No: 15 started. Evaluating function at random point.\n",
      "[0.012250750764764855, 8, 6, 0.5976582413192033, 0.2474882432951916, 516, 4, 4]\n"
     ]
    },
    {
     "name": "stderr",
     "output_type": "stream",
     "text": [
      "C:\\Users\\Gustavo\\Anaconda3\\envs\\to_deploy\\lib\\site-packages\\lightgbm\\basic.py:546: UserWarning: Converting data to scipy sparse matrix.\n",
      "  warnings.warn('Converting data to scipy sparse matrix.')\n",
      "C:\\Users\\Gustavo\\Anaconda3\\envs\\to_deploy\\lib\\site-packages\\lightgbm\\basic.py:546: UserWarning: Converting data to scipy sparse matrix.\n",
      "  warnings.warn('Converting data to scipy sparse matrix.')\n"
     ]
    },
    {
     "name": "stdout",
     "output_type": "stream",
     "text": [
      "0.4989087580963109\n",
      "Iteration No: 15 ended. Evaluation done at random point.\n",
      "Time taken: 0.4142\n",
      "Function value obtained: -0.3394\n",
      "Current minimum: -0.3394\n",
      "Iteration No: 16 started. Evaluating function at random point.\n",
      "[0.018353598126553926, 4, 3, 0.47305622526323254, 0.1404164811277527, 133, 4, 1]\n",
      "0.48570825119684596\n",
      "Iteration No: 16 ended. Evaluation done at random point.\n",
      "Time taken: 0.0698\n",
      "Function value obtained: -0.2883\n",
      "Current minimum: -0.3394\n",
      "Iteration No: 17 started. Evaluating function at random point.\n",
      "[0.0010383234748454694, 15, 19, 0.9256771571832196, 0.9321438677645206, 312, 4, 3]\n"
     ]
    },
    {
     "name": "stderr",
     "output_type": "stream",
     "text": [
      "C:\\Users\\Gustavo\\Anaconda3\\envs\\to_deploy\\lib\\site-packages\\lightgbm\\basic.py:546: UserWarning: Converting data to scipy sparse matrix.\n",
      "  warnings.warn('Converting data to scipy sparse matrix.')\n",
      "C:\\Users\\Gustavo\\Anaconda3\\envs\\to_deploy\\lib\\site-packages\\lightgbm\\basic.py:546: UserWarning: Converting data to scipy sparse matrix.\n",
      "  warnings.warn('Converting data to scipy sparse matrix.')\n"
     ]
    },
    {
     "name": "stdout",
     "output_type": "stream",
     "text": [
      "0.4816072937200788\n",
      "Iteration No: 17 ended. Evaluation done at random point.\n",
      "Time taken: 6.5983\n",
      "Function value obtained: -0.2692\n",
      "Current minimum: -0.3394\n",
      "Iteration No: 18 started. Evaluating function at random point.\n",
      "[0.004955229758078229, 5, 5, 0.06939551310802591, 0.4193273080472823, 725, 4, 1]\n",
      "0.46226415094339623\n",
      "Iteration No: 18 ended. Evaluation done at random point.\n",
      "Time taken: 0.1137\n",
      "Function value obtained: -0.2702\n",
      "Current minimum: -0.3394\n",
      "Iteration No: 19 started. Evaluating function at random point.\n",
      "[0.0699516121742407, 11, 9, 0.22351444794819092, 0.9946871410890346, 947, 5, 1]\n"
     ]
    },
    {
     "name": "stderr",
     "output_type": "stream",
     "text": [
      "C:\\Users\\Gustavo\\Anaconda3\\envs\\to_deploy\\lib\\site-packages\\lightgbm\\basic.py:546: UserWarning: Converting data to scipy sparse matrix.\n",
      "  warnings.warn('Converting data to scipy sparse matrix.')\n"
     ]
    },
    {
     "name": "stdout",
     "output_type": "stream",
     "text": [
      "0.49760630808223033\n",
      "Iteration No: 19 ended. Evaluation done at random point.\n",
      "Time taken: 0.5176\n",
      "Function value obtained: -0.3026\n",
      "Current minimum: -0.3394\n",
      "Iteration No: 20 started. Evaluating function at random point.\n",
      "[0.004955402904180171, 6, 1, 0.13021457554920057, 0.6158804906347372, 615, 3, 4]\n"
     ]
    },
    {
     "name": "stderr",
     "output_type": "stream",
     "text": [
      "C:\\Users\\Gustavo\\Anaconda3\\envs\\to_deploy\\lib\\site-packages\\lightgbm\\basic.py:546: UserWarning: Converting data to scipy sparse matrix.\n",
      "  warnings.warn('Converting data to scipy sparse matrix.')\n"
     ]
    },
    {
     "name": "stdout",
     "output_type": "stream",
     "text": [
      "0.4724021402421853\n",
      "Iteration No: 20 ended. Evaluation done at random point.\n",
      "Time taken: 1.0655\n",
      "Function value obtained: -0.2866\n",
      "Current minimum: -0.3394\n",
      "Iteration No: 21 started. Searching for the next optimal point.\n",
      "[0.012750003188347398, 6, 7, 0.6283707044270589, 0.19713289098659126, 685, 4, 5]\n"
     ]
    },
    {
     "name": "stderr",
     "output_type": "stream",
     "text": [
      "C:\\Users\\Gustavo\\Anaconda3\\envs\\to_deploy\\lib\\site-packages\\lightgbm\\basic.py:546: UserWarning: Converting data to scipy sparse matrix.\n",
      "  warnings.warn('Converting data to scipy sparse matrix.')\n"
     ]
    },
    {
     "name": "stdout",
     "output_type": "stream",
     "text": [
      "0.482680934947902\n",
      "Iteration No: 21 ended. Search finished for the next optimal point.\n",
      "Time taken: 0.5217\n",
      "Function value obtained: -0.3453\n",
      "Current minimum: -0.3453\n",
      "Iteration No: 22 started. Searching for the next optimal point.\n",
      "[0.013612240408179753, 5, 9, 0.664231009869041, 0.05974943295881339, 588, 3, 5]\n",
      "0.4848282174035483\n"
     ]
    },
    {
     "name": "stderr",
     "output_type": "stream",
     "text": [
      "C:\\Users\\Gustavo\\Anaconda3\\envs\\to_deploy\\lib\\site-packages\\lightgbm\\basic.py:546: UserWarning: Converting data to scipy sparse matrix.\n",
      "  warnings.warn('Converting data to scipy sparse matrix.')\n"
     ]
    },
    {
     "name": "stdout",
     "output_type": "stream",
     "text": [
      "Iteration No: 22 ended. Search finished for the next optimal point.\n",
      "Time taken: 0.4259\n",
      "Function value obtained: -0.3150\n",
      "Current minimum: -0.3453\n",
      "Iteration No: 23 started. Searching for the next optimal point.\n",
      "[0.011741343334192094, 10, 20, 0.7088267828380246, 0.23351519448516372, 739, 5, 5]\n"
     ]
    },
    {
     "name": "stderr",
     "output_type": "stream",
     "text": [
      "C:\\Users\\Gustavo\\Anaconda3\\envs\\to_deploy\\lib\\site-packages\\lightgbm\\basic.py:546: UserWarning: Converting data to scipy sparse matrix.\n",
      "  warnings.warn('Converting data to scipy sparse matrix.')\n"
     ]
    },
    {
     "name": "stdout",
     "output_type": "stream",
     "text": [
      "0.48686989580399886\n",
      "Iteration No: 23 ended. Search finished for the next optimal point.\n",
      "Time taken: 0.5535\n",
      "Function value obtained: -0.3013\n",
      "Current minimum: -0.3453\n",
      "Iteration No: 24 started. Searching for the next optimal point.\n",
      "[0.01515306653009862, 12, 6, 0.6089444963634667, 0.22716420884492683, 508, 1, 5]\n"
     ]
    },
    {
     "name": "stderr",
     "output_type": "stream",
     "text": [
      "C:\\Users\\Gustavo\\Anaconda3\\envs\\to_deploy\\lib\\site-packages\\lightgbm\\basic.py:546: UserWarning: Converting data to scipy sparse matrix.\n",
      "  warnings.warn('Converting data to scipy sparse matrix.')\n"
     ]
    },
    {
     "name": "stdout",
     "output_type": "stream",
     "text": [
      "0.46342579555054914\n",
      "Iteration No: 24 ended. Search finished for the next optimal point.\n",
      "Time taken: 1.3474\n",
      "Function value obtained: -0.3057\n",
      "Current minimum: -0.3453\n",
      "Iteration No: 25 started. Searching for the next optimal point.\n",
      "[0.017499638779439646, 8, 2, 0.6051120374126752, 0.22550984815909336, 885, 4, 4]\n"
     ]
    },
    {
     "name": "stderr",
     "output_type": "stream",
     "text": [
      "C:\\Users\\Gustavo\\Anaconda3\\envs\\to_deploy\\lib\\site-packages\\lightgbm\\basic.py:546: UserWarning: Converting data to scipy sparse matrix.\n",
      "  warnings.warn('Converting data to scipy sparse matrix.')\n"
     ]
    },
    {
     "name": "stdout",
     "output_type": "stream",
     "text": [
      "0.48542664038299066\n",
      "Iteration No: 25 ended. Search finished for the next optimal point.\n",
      "Time taken: 2.5056\n",
      "Function value obtained: -0.3153\n",
      "Current minimum: -0.3453\n",
      "Iteration No: 26 started. Searching for the next optimal point.\n",
      "[0.012938378829290699, 8, 6, 0.6534749237555699, 0.25433080123827206, 661, 4, 4]\n"
     ]
    },
    {
     "name": "stderr",
     "output_type": "stream",
     "text": [
      "C:\\Users\\Gustavo\\Anaconda3\\envs\\to_deploy\\lib\\site-packages\\lightgbm\\basic.py:546: UserWarning: Converting data to scipy sparse matrix.\n",
      "  warnings.warn('Converting data to scipy sparse matrix.')\n"
     ]
    },
    {
     "name": "stdout",
     "output_type": "stream",
     "text": [
      "0.4940157702055759\n",
      "Iteration No: 26 ended. Search finished for the next optimal point.\n",
      "Time taken: 0.6224\n",
      "Function value obtained: -0.3341\n",
      "Current minimum: -0.3453\n",
      "Iteration No: 27 started. Searching for the next optimal point.\n",
      "[0.010633272286736882, 9, 5, 0.6054564364679259, 0.24274063742635, 812, 4, 4]\n"
     ]
    },
    {
     "name": "stderr",
     "output_type": "stream",
     "text": [
      "C:\\Users\\Gustavo\\Anaconda3\\envs\\to_deploy\\lib\\site-packages\\lightgbm\\basic.py:546: UserWarning: Converting data to scipy sparse matrix.\n",
      "  warnings.warn('Converting data to scipy sparse matrix.')\n"
     ]
    },
    {
     "name": "stdout",
     "output_type": "stream",
     "text": [
      "0.4955646296817798\n",
      "Iteration No: 27 ended. Search finished for the next optimal point.\n",
      "Time taken: 0.8677\n",
      "Function value obtained: -0.3210\n",
      "Current minimum: -0.3453\n",
      "Iteration No: 28 started. Searching for the next optimal point.\n",
      "[0.012023986140826547, 15, 7, 0.5875564639420233, 0.2645366973861971, 286, 5, 4]\n"
     ]
    },
    {
     "name": "stderr",
     "output_type": "stream",
     "text": [
      "C:\\Users\\Gustavo\\Anaconda3\\envs\\to_deploy\\lib\\site-packages\\lightgbm\\basic.py:546: UserWarning: Converting data to scipy sparse matrix.\n",
      "  warnings.warn('Converting data to scipy sparse matrix.')\n"
     ]
    },
    {
     "name": "stdout",
     "output_type": "stream",
     "text": [
      "0.47423261053224447\n",
      "Iteration No: 28 ended. Search finished for the next optimal point.\n",
      "Time taken: 10.6194\n",
      "Function value obtained: -0.3234\n",
      "Current minimum: -0.3453\n",
      "Iteration No: 29 started. Searching for the next optimal point.\n",
      "[0.002639119770534989, 3, 7, 0.6571865685903414, 0.1523233552548061, 559, 5, 4]\n",
      "0.4650802590819487\n"
     ]
    },
    {
     "name": "stderr",
     "output_type": "stream",
     "text": [
      "C:\\Users\\Gustavo\\Anaconda3\\envs\\to_deploy\\lib\\site-packages\\lightgbm\\basic.py:546: UserWarning: Converting data to scipy sparse matrix.\n",
      "  warnings.warn('Converting data to scipy sparse matrix.')\n"
     ]
    },
    {
     "name": "stdout",
     "output_type": "stream",
     "text": [
      "Iteration No: 29 ended. Search finished for the next optimal point.\n",
      "Time taken: 0.5127\n",
      "Function value obtained: -0.2849\n",
      "Current minimum: -0.3453\n",
      "Iteration No: 30 started. Searching for the next optimal point.\n",
      "[0.08039047602339458, 6, 7, 0.3840130098103599, 0.2566651826928838, 472, 4, 4]\n"
     ]
    },
    {
     "name": "stderr",
     "output_type": "stream",
     "text": [
      "C:\\Users\\Gustavo\\Anaconda3\\envs\\to_deploy\\lib\\site-packages\\lightgbm\\basic.py:546: UserWarning: Converting data to scipy sparse matrix.\n",
      "  warnings.warn('Converting data to scipy sparse matrix.')\n"
     ]
    },
    {
     "name": "stdout",
     "output_type": "stream",
     "text": [
      "0.513200506899465\n",
      "Iteration No: 30 ended. Search finished for the next optimal point.\n",
      "Time taken: 0.5725\n",
      "Function value obtained: -0.3315\n",
      "Current minimum: -0.3453\n",
      "Iteration No: 31 started. Searching for the next optimal point.\n",
      "[0.012664209071636902, 7, 7, 0.6230784058315155, 0.14257257386478256, 618, 4, 4]\n"
     ]
    },
    {
     "name": "stderr",
     "output_type": "stream",
     "text": [
      "C:\\Users\\Gustavo\\Anaconda3\\envs\\to_deploy\\lib\\site-packages\\lightgbm\\basic.py:546: UserWarning: Converting data to scipy sparse matrix.\n",
      "  warnings.warn('Converting data to scipy sparse matrix.')\n"
     ]
    },
    {
     "name": "stdout",
     "output_type": "stream",
     "text": [
      "0.5057026189805689\n",
      "Iteration No: 31 ended. Search finished for the next optimal point.\n",
      "Time taken: 0.7291\n",
      "Function value obtained: -0.3449\n",
      "Current minimum: -0.3453\n",
      "Iteration No: 32 started. Searching for the next optimal point.\n",
      "[0.012408979766496776, 9, 6, 0.6156061343459918, 0.09124092035717463, 616, 4, 3]\n"
     ]
    },
    {
     "name": "stderr",
     "output_type": "stream",
     "text": [
      "C:\\Users\\Gustavo\\Anaconda3\\envs\\to_deploy\\lib\\site-packages\\lightgbm\\basic.py:546: UserWarning: Converting data to scipy sparse matrix.\n",
      "  warnings.warn('Converting data to scipy sparse matrix.')\n"
     ]
    },
    {
     "name": "stdout",
     "output_type": "stream",
     "text": [
      "0.47761194029850745\n",
      "Iteration No: 32 ended. Search finished for the next optimal point.\n",
      "Time taken: 0.9859\n",
      "Function value obtained: -0.3148\n",
      "Current minimum: -0.3453\n",
      "Iteration No: 33 started. Searching for the next optimal point.\n",
      "[0.007709874083894978, 6, 7, 0.4411889587294485, 0.19800962972700487, 826, 4, 4]\n"
     ]
    },
    {
     "name": "stderr",
     "output_type": "stream",
     "text": [
      "C:\\Users\\Gustavo\\Anaconda3\\envs\\to_deploy\\lib\\site-packages\\lightgbm\\basic.py:546: UserWarning: Converting data to scipy sparse matrix.\n",
      "  warnings.warn('Converting data to scipy sparse matrix.')\n"
     ]
    },
    {
     "name": "stdout",
     "output_type": "stream",
     "text": [
      "0.5084483244156576\n",
      "Iteration No: 33 ended. Search finished for the next optimal point.\n",
      "Time taken: 0.9022\n",
      "Function value obtained: -0.3299\n",
      "Current minimum: -0.3453\n",
      "Iteration No: 34 started. Searching for the next optimal point.\n",
      "[0.005214781933722956, 7, 6, 0.7538763542454772, 0.2532910571141877, 638, 4, 4]\n"
     ]
    },
    {
     "name": "stderr",
     "output_type": "stream",
     "text": [
      "C:\\Users\\Gustavo\\Anaconda3\\envs\\to_deploy\\lib\\site-packages\\lightgbm\\basic.py:546: UserWarning: Converting data to scipy sparse matrix.\n",
      "  warnings.warn('Converting data to scipy sparse matrix.')\n"
     ]
    },
    {
     "name": "stdout",
     "output_type": "stream",
     "text": [
      "0.46676992396508027\n",
      "Iteration No: 34 ended. Search finished for the next optimal point.\n",
      "Time taken: 0.9390\n",
      "Function value obtained: -0.3295\n",
      "Current minimum: -0.3453\n",
      "Iteration No: 35 started. Searching for the next optimal point.\n",
      "[0.007177661502445641, 8, 8, 0.3649637067706078, 0.22810607332174954, 692, 4, 4]\n"
     ]
    },
    {
     "name": "stderr",
     "output_type": "stream",
     "text": [
      "C:\\Users\\Gustavo\\Anaconda3\\envs\\to_deploy\\lib\\site-packages\\lightgbm\\basic.py:546: UserWarning: Converting data to scipy sparse matrix.\n",
      "  warnings.warn('Converting data to scipy sparse matrix.')\n"
     ]
    },
    {
     "name": "stdout",
     "output_type": "stream",
     "text": [
      "0.4974303013235708\n",
      "Iteration No: 35 ended. Search finished for the next optimal point.\n",
      "Time taken: 0.8759\n",
      "Function value obtained: -0.3136\n",
      "Current minimum: -0.3453\n",
      "Iteration No: 36 started. Searching for the next optimal point.\n",
      "[0.023791168458334386, 5, 6, 0.8033084757027618, 0.1503248871437941, 658, 4, 4]\n"
     ]
    },
    {
     "name": "stderr",
     "output_type": "stream",
     "text": [
      "C:\\Users\\Gustavo\\Anaconda3\\envs\\to_deploy\\lib\\site-packages\\lightgbm\\basic.py:546: UserWarning: Converting data to scipy sparse matrix.\n",
      "  warnings.warn('Converting data to scipy sparse matrix.')\n"
     ]
    },
    {
     "name": "stdout",
     "output_type": "stream",
     "text": [
      "0.46339059419881723\n",
      "Iteration No: 36 ended. Search finished for the next optimal point.\n",
      "Time taken: 0.7155\n",
      "Function value obtained: -0.3108\n",
      "Current minimum: -0.3453\n",
      "Iteration No: 37 started. Searching for the next optimal point.\n",
      "[0.012869285479458327, 6, 9, 0.9839860401672411, 0.3108326957186079, 516, 4, 4]\n"
     ]
    },
    {
     "name": "stderr",
     "output_type": "stream",
     "text": [
      "C:\\Users\\Gustavo\\Anaconda3\\envs\\to_deploy\\lib\\site-packages\\lightgbm\\basic.py:546: UserWarning: Converting data to scipy sparse matrix.\n",
      "  warnings.warn('Converting data to scipy sparse matrix.')\n"
     ]
    },
    {
     "name": "stdout",
     "output_type": "stream",
     "text": [
      "0.45712475359053784\n",
      "Iteration No: 37 ended. Search finished for the next optimal point.\n",
      "Time taken: 0.6293\n",
      "Function value obtained: -0.3036\n",
      "Current minimum: -0.3453\n",
      "Iteration No: 38 started. Searching for the next optimal point.\n",
      "[0.012201329277191314, 7, 7, 0.6487216908641696, 0.1784244745007053, 467, 1, 5]\n"
     ]
    },
    {
     "name": "stderr",
     "output_type": "stream",
     "text": [
      "C:\\Users\\Gustavo\\Anaconda3\\envs\\to_deploy\\lib\\site-packages\\lightgbm\\basic.py:546: UserWarning: Converting data to scipy sparse matrix.\n",
      "  warnings.warn('Converting data to scipy sparse matrix.')\n"
     ]
    },
    {
     "name": "stdout",
     "output_type": "stream",
     "text": [
      "0.4577583779217122\n",
      "Iteration No: 38 ended. Search finished for the next optimal point.\n",
      "Time taken: 0.7303\n",
      "Function value obtained: -0.2838\n",
      "Current minimum: -0.3453\n",
      "Iteration No: 39 started. Searching for the next optimal point.\n",
      "[0.025780277655696956, 8, 7, 0.06575113078969208, 0.08945927107001195, 654, 4, 4]\n",
      "0.48109687411996616\n"
     ]
    },
    {
     "name": "stderr",
     "output_type": "stream",
     "text": [
      "C:\\Users\\Gustavo\\Anaconda3\\envs\\to_deploy\\lib\\site-packages\\lightgbm\\basic.py:546: UserWarning: Converting data to scipy sparse matrix.\n",
      "  warnings.warn('Converting data to scipy sparse matrix.')\n"
     ]
    },
    {
     "name": "stdout",
     "output_type": "stream",
     "text": [
      "Iteration No: 39 ended. Search finished for the next optimal point.\n",
      "Time taken: 0.6009\n",
      "Function value obtained: -0.2807\n",
      "Current minimum: -0.3453\n",
      "Iteration No: 40 started. Searching for the next optimal point.\n",
      "[0.013675683648852405, 7, 1, 0.4123035781751848, 0.19482031406441402, 648, 4, 5]\n"
     ]
    },
    {
     "name": "stderr",
     "output_type": "stream",
     "text": [
      "C:\\Users\\Gustavo\\Anaconda3\\envs\\to_deploy\\lib\\site-packages\\lightgbm\\basic.py:546: UserWarning: Converting data to scipy sparse matrix.\n",
      "  warnings.warn('Converting data to scipy sparse matrix.')\n"
     ]
    },
    {
     "name": "stdout",
     "output_type": "stream",
     "text": [
      "0.5066178541255983\n",
      "Iteration No: 40 ended. Search finished for the next optimal point.\n",
      "Time taken: 1.4289\n",
      "Function value obtained: -0.3250\n",
      "Current minimum: -0.3453\n",
      "Iteration No: 41 started. Searching for the next optimal point.\n",
      "[0.0010355115431307895, 7, 14, 0.6004108713881031, 0.17103524042617924, 698, 4, 5]\n"
     ]
    },
    {
     "name": "stderr",
     "output_type": "stream",
     "text": [
      "C:\\Users\\Gustavo\\Anaconda3\\envs\\to_deploy\\lib\\site-packages\\lightgbm\\basic.py:546: UserWarning: Converting data to scipy sparse matrix.\n",
      "  warnings.warn('Converting data to scipy sparse matrix.')\n"
     ]
    },
    {
     "name": "stdout",
     "output_type": "stream",
     "text": [
      "0.48528583497606304\n",
      "Iteration No: 41 ended. Search finished for the next optimal point.\n",
      "Time taken: 0.7112\n",
      "Function value obtained: -0.2985\n",
      "Current minimum: -0.3453\n",
      "Iteration No: 42 started. Searching for the next optimal point.\n",
      "[0.09499420678873671, 15, 7, 0.6016414642239297, 0.2536508358433761, 136, 4, 5]\n"
     ]
    },
    {
     "name": "stderr",
     "output_type": "stream",
     "text": [
      "C:\\Users\\Gustavo\\Anaconda3\\envs\\to_deploy\\lib\\site-packages\\lightgbm\\basic.py:546: UserWarning: Converting data to scipy sparse matrix.\n",
      "  warnings.warn('Converting data to scipy sparse matrix.')\n"
     ]
    },
    {
     "name": "stdout",
     "output_type": "stream",
     "text": [
      "0.49915516755843425\n",
      "Iteration No: 42 ended. Search finished for the next optimal point.\n",
      "Time taken: 18.2115\n",
      "Function value obtained: -0.3114\n",
      "Current minimum: -0.3453\n",
      "Iteration No: 43 started. Searching for the next optimal point.\n",
      "[0.013300550258160548, 7, 5, 0.44301498242423987, 0.1475138901560187, 515, 5, 4]\n"
     ]
    },
    {
     "name": "stderr",
     "output_type": "stream",
     "text": [
      "C:\\Users\\Gustavo\\Anaconda3\\envs\\to_deploy\\lib\\site-packages\\lightgbm\\basic.py:546: UserWarning: Converting data to scipy sparse matrix.\n",
      "  warnings.warn('Converting data to scipy sparse matrix.')\n"
     ]
    },
    {
     "name": "stdout",
     "output_type": "stream",
     "text": [
      "0.4800056322162771\n",
      "Iteration No: 43 ended. Search finished for the next optimal point.\n",
      "Time taken: 0.5276\n",
      "Function value obtained: -0.3018\n",
      "Current minimum: -0.3453\n",
      "Iteration No: 44 started. Searching for the next optimal point.\n",
      "[0.010473894158335982, 1, 7, 0.4558484056183824, 0.06891402787544804, 994, 4, 5]\n",
      "0.4749366375668826\n"
     ]
    },
    {
     "name": "stderr",
     "output_type": "stream",
     "text": [
      "C:\\Users\\Gustavo\\Anaconda3\\envs\\to_deploy\\lib\\site-packages\\lightgbm\\basic.py:546: UserWarning: Converting data to scipy sparse matrix.\n",
      "  warnings.warn('Converting data to scipy sparse matrix.')\n"
     ]
    },
    {
     "name": "stdout",
     "output_type": "stream",
     "text": [
      "Iteration No: 44 ended. Search finished for the next optimal point.\n",
      "Time taken: 0.4747\n",
      "Function value obtained: -0.3024\n",
      "Current minimum: -0.3453\n",
      "Iteration No: 45 started. Searching for the next optimal point.\n",
      "[0.007753240912978019, 7, 6, 0.6272100524599133, 0.1976076666114046, 712, 4, 4]\n"
     ]
    },
    {
     "name": "stderr",
     "output_type": "stream",
     "text": [
      "C:\\Users\\Gustavo\\Anaconda3\\envs\\to_deploy\\lib\\site-packages\\lightgbm\\basic.py:546: UserWarning: Converting data to scipy sparse matrix.\n",
      "  warnings.warn('Converting data to scipy sparse matrix.')\n"
     ]
    },
    {
     "name": "stdout",
     "output_type": "stream",
     "text": [
      "0.49017882286679804\n",
      "Iteration No: 45 ended. Search finished for the next optimal point.\n",
      "Time taken: 0.6333\n",
      "Function value obtained: -0.3422\n",
      "Current minimum: -0.3453\n",
      "Iteration No: 46 started. Searching for the next optimal point.\n",
      "[0.004238487200650871, 12, 6, 0.6304248575666457, 0.19892435214099619, 669, 4, 2]\n"
     ]
    },
    {
     "name": "stderr",
     "output_type": "stream",
     "text": [
      "C:\\Users\\Gustavo\\Anaconda3\\envs\\to_deploy\\lib\\site-packages\\lightgbm\\basic.py:546: UserWarning: Converting data to scipy sparse matrix.\n",
      "  warnings.warn('Converting data to scipy sparse matrix.')\n"
     ]
    },
    {
     "name": "stdout",
     "output_type": "stream",
     "text": [
      "0.45557589411433397\n",
      "Iteration No: 46 ended. Search finished for the next optimal point.\n",
      "Time taken: 2.1752\n",
      "Function value obtained: -0.2904\n",
      "Current minimum: -0.3453\n",
      "Iteration No: 47 started. Searching for the next optimal point.\n",
      "[0.003993517127674334, 7, 8, 0.551951071317732, 0.14612313770699514, 454, 4, 4]\n",
      "0.49672627428893273\n"
     ]
    },
    {
     "name": "stderr",
     "output_type": "stream",
     "text": [
      "C:\\Users\\Gustavo\\Anaconda3\\envs\\to_deploy\\lib\\site-packages\\lightgbm\\basic.py:546: UserWarning: Converting data to scipy sparse matrix.\n",
      "  warnings.warn('Converting data to scipy sparse matrix.')\n"
     ]
    },
    {
     "name": "stdout",
     "output_type": "stream",
     "text": [
      "Iteration No: 47 ended. Search finished for the next optimal point.\n",
      "Time taken: 0.4767\n",
      "Function value obtained: -0.3202\n",
      "Current minimum: -0.3453\n",
      "Iteration No: 48 started. Searching for the next optimal point.\n",
      "[0.004532209462740312, 6, 6, 0.6418817342823382, 0.15680633626269902, 631, 4, 4]\n"
     ]
    },
    {
     "name": "stderr",
     "output_type": "stream",
     "text": [
      "C:\\Users\\Gustavo\\Anaconda3\\envs\\to_deploy\\lib\\site-packages\\lightgbm\\basic.py:546: UserWarning: Converting data to scipy sparse matrix.\n",
      "  warnings.warn('Converting data to scipy sparse matrix.')\n"
     ]
    },
    {
     "name": "stdout",
     "output_type": "stream",
     "text": [
      "0.47990002816108135\n",
      "Iteration No: 48 ended. Search finished for the next optimal point.\n",
      "Time taken: 0.5755\n",
      "Function value obtained: -0.3345\n",
      "Current minimum: -0.3453\n",
      "Iteration No: 49 started. Searching for the next optimal point.\n",
      "[0.005919393762796261, 11, 7, 0.6404927945042223, 0.11618422994721038, 719, 4, 4]\n"
     ]
    },
    {
     "name": "stderr",
     "output_type": "stream",
     "text": [
      "C:\\Users\\Gustavo\\Anaconda3\\envs\\to_deploy\\lib\\site-packages\\lightgbm\\basic.py:546: UserWarning: Converting data to scipy sparse matrix.\n",
      "  warnings.warn('Converting data to scipy sparse matrix.')\n"
     ]
    },
    {
     "name": "stdout",
     "output_type": "stream",
     "text": [
      "0.4961278513094903\n",
      "Iteration No: 49 ended. Search finished for the next optimal point.\n",
      "Time taken: 1.0781\n",
      "Function value obtained: -0.3213\n",
      "Current minimum: -0.3453\n",
      "Iteration No: 50 started. Searching for the next optimal point.\n",
      "[0.0034175211209914918, 6, 4, 0.6357006149183271, 0.1453736165293555, 984, 4, 5]\n"
     ]
    },
    {
     "name": "stderr",
     "output_type": "stream",
     "text": [
      "C:\\Users\\Gustavo\\Anaconda3\\envs\\to_deploy\\lib\\site-packages\\lightgbm\\basic.py:546: UserWarning: Converting data to scipy sparse matrix.\n",
      "  warnings.warn('Converting data to scipy sparse matrix.')\n"
     ]
    },
    {
     "name": "stdout",
     "output_type": "stream",
     "text": [
      "0.4712756969867643\n",
      "Iteration No: 50 ended. Search finished for the next optimal point.\n",
      "Time taken: 1.0290\n",
      "Function value obtained: -0.3308\n",
      "Current minimum: -0.3453\n"
     ]
    }
   ],
   "source": [
    "def tune_lgbm(params):\n",
    "    print(params)\n",
    "    lr = params[0]\n",
    "    max_depth = params[1]\n",
    "    min_child_samples = params[2]\n",
    "    subsample = params[3]\n",
    "    colsample_bytree = params[4]\n",
    "    n_estimators = params[5]\n",
    "    \n",
    "    min_df = params[6]\n",
    "    ngram_range = (1, params[7])\n",
    "    \n",
    "    title_vec = TfidfVectorizer(min_df=min_df, ngram_range=ngram_range)\n",
    "    title_bow_train = title_vec.fit_transform(title_train)\n",
    "    title_bow_val = title_vec.transform(title_val)\n",
    "    \n",
    "    Xtrain_wtitle = hstack([Xtrain, title_bow_train])\n",
    "    Xval_wtitle = hstack([Xval, title_bow_val])\n",
    "    \n",
    "    mdl = LGBMClassifier(learning_rate=lr, num_leaves=2 ** max_depth, max_depth=max_depth, \n",
    "                         min_child_samples=min_child_samples, subsample=subsample,\n",
    "                         colsample_bytree=colsample_bytree, bagging_freq=1,n_estimators=n_estimators, random_state=0, \n",
    "                         class_weight=\"balanced\", n_jobs=6)\n",
    "    mdl.fit(Xtrain_wtitle, ytrain)\n",
    "    \n",
    "    p = mdl.predict_proba(Xval_wtitle)[:, 1]\n",
    "    \n",
    "    print(roc_auc_score(yval, p))\n",
    "    \n",
    "    return -average_precision_score(yval, p)\n",
    "\n",
    "\n",
    "space = [(1e-3, 1e-1, 'log-uniform'), # lr\n",
    "          (1, 15), # max_depth\n",
    "          (1, 20), # min_child_samples\n",
    "          (0.05, 1.), # subsample\n",
    "          (0.05, 1.), # colsample_bytree\n",
    "          (100,1000), # n_estimators\n",
    "          (1,5), # min_df\n",
    "          (1,5)] # ngram_range\n",
    "\n",
    "res = forest_minimize(tune_lgbm, space, random_state=160745, n_random_starts=20, n_calls=50, verbose=1)"
   ]
  },
  {
   "cell_type": "markdown",
   "metadata": {},
   "source": [
    "# 7 Logistic Reg"
   ]
  },
  {
   "cell_type": "code",
   "execution_count": 39,
   "metadata": {},
   "outputs": [],
   "source": [
    "from sklearn.preprocessing import MaxAbsScaler, StandardScaler\n",
    "from scipy.sparse import csr_matrix"
   ]
  },
  {
   "cell_type": "code",
   "execution_count": 129,
   "metadata": {},
   "outputs": [
    {
     "name": "stderr",
     "output_type": "stream",
     "text": [
      "C:\\Users\\Gustavo\\Anaconda3\\envs\\to_deploy\\lib\\site-packages\\scipy\\sparse\\_index.py:124: SparseEfficiencyWarning: Changing the sparsity structure of a csr_matrix is expensive. lil_matrix is more efficient.\n",
      "  self._set_arrayXarray(i, j, x)\n"
     ]
    }
   ],
   "source": [
    "Xtrain_wtitle2 = csr_matrix(Xtrain_wtitle.copy())\n",
    "Xval_wtitle2 = csr_matrix(Xval_wtitle.copy())\n",
    "\n",
    "scaler = StandardScaler()\n",
    "# scaler = MaxAbsScaler()\n",
    "\n",
    "\n",
    "Xtrain_wtitle2[:, :2] = scaler.fit_transform(Xtrain_wtitle2[:, :2].todense())\n",
    "Xval_wtitle2[:, :2] = scaler.transform(Xval_wtitle2[:, :2].todense())\n",
    "\n",
    "# Xtrain_wtitle2 = scaler.fit_transform(Xtrain_wtitle2)\n",
    "# Xval_wtitle2 = scaler.transform(Xval_wtitle2)"
   ]
  },
  {
   "cell_type": "code",
   "execution_count": 130,
   "metadata": {},
   "outputs": [
    {
     "data": {
      "text/plain": [
       "(374, 437)"
      ]
     },
     "execution_count": 130,
     "metadata": {},
     "output_type": "execute_result"
    }
   ],
   "source": [
    "Xval_wtitle2.shape"
   ]
  },
  {
   "cell_type": "code",
   "execution_count": 131,
   "metadata": {},
   "outputs": [
    {
     "data": {
      "text/plain": [
       "LogisticRegression(C=0.0001, n_jobs=6, random_state=0)"
      ]
     },
     "execution_count": 131,
     "metadata": {},
     "output_type": "execute_result"
    }
   ],
   "source": [
    "\n",
    "mdl = LogisticRegression(C=0.0001,n_jobs=6, random_state=0)\n",
    "mdl.fit(Xtrain_wtitle2, ytrain)"
   ]
  },
  {
   "cell_type": "code",
   "execution_count": 132,
   "metadata": {},
   "outputs": [],
   "source": [
    "p = mdl.predict_proba(Xval_wtitle2)[:, 1]"
   ]
  },
  {
   "cell_type": "code",
   "execution_count": 133,
   "metadata": {},
   "outputs": [
    {
     "data": {
      "text/plain": [
       "(0.33792352917966934, 0.5337580963108984)"
      ]
     },
     "execution_count": 133,
     "metadata": {},
     "output_type": "execute_result"
    }
   ],
   "source": [
    "average_precision_score(yval, p), roc_auc_score(yval, p)"
   ]
  },
  {
   "cell_type": "code",
   "execution_count": null,
   "metadata": {},
   "outputs": [],
   "source": [
    "(0.3238428572594492, 0.4953886229231203) - sem tuning, standardscaler\n",
    "\n",
    "(0.2933647722524177, 0.46627710504083353) - sem tuning, maxabsscaler\n",
    "(0.30539232757962287, 0.4772599267811884) - C=10, standardscaler\n",
    "\n",
    "(0.27113551861312046, 0.4392424669107293) - C=10, maxabsscaler\n",
    "(0.33792352917966934, 0.5337580963108984) - C=0.0001, standardscaler"
   ]
  },
  {
   "cell_type": "code",
   "execution_count": null,
   "metadata": {},
   "outputs": [],
   "source": []
  },
  {
   "cell_type": "code",
   "execution_count": null,
   "metadata": {},
   "outputs": [],
   "source": []
  }
 ],
 "metadata": {
  "kernelspec": {
   "display_name": "Python 3",
   "language": "python",
   "name": "python3"
  },
  "language_info": {
   "codemirror_mode": {
    "name": "ipython",
    "version": 3
   },
   "file_extension": ".py",
   "mimetype": "text/x-python",
   "name": "python",
   "nbconvert_exporter": "python",
   "pygments_lexer": "ipython3",
   "version": "3.7.7"
  }
 },
 "nbformat": 4,
 "nbformat_minor": 4
}
