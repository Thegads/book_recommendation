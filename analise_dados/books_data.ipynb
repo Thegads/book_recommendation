{
 "cells": [
  {
   "cell_type": "code",
   "execution_count": 1,
   "metadata": {},
   "outputs": [],
   "source": [
    "import requests\n",
    "from bs4 import BeautifulSoup\n",
    "from selenium import webdriver\n",
    "from selenium.common.exceptions import TimeoutException\n",
    "from selenium.common.exceptions import InvalidSessionIdException\n",
    "from selenium.common.exceptions import TimeoutException\n",
    "import time"
   ]
  },
  {
   "cell_type": "code",
   "execution_count": 19,
   "metadata": {},
   "outputs": [],
   "source": [
    "import pandas as pd\n",
    "links = pd.read_excel('erros2.xlsx')"
   ]
  },
  {
   "cell_type": "code",
   "execution_count": 20,
   "metadata": {},
   "outputs": [],
   "source": [
    "links = links.drop(['Unnamed: 0'], axis = 1)"
   ]
  },
  {
   "cell_type": "code",
   "execution_count": 23,
   "metadata": {},
   "outputs": [],
   "source": [
    "links.columns = ['url']"
   ]
  },
  {
   "cell_type": "code",
   "execution_count": 24,
   "metadata": {
    "collapsed": true,
    "jupyter": {
     "outputs_hidden": true
    }
   },
   "outputs": [
    {
     "data": {
      "text/html": [
       "<div>\n",
       "<style scoped>\n",
       "    .dataframe tbody tr th:only-of-type {\n",
       "        vertical-align: middle;\n",
       "    }\n",
       "\n",
       "    .dataframe tbody tr th {\n",
       "        vertical-align: top;\n",
       "    }\n",
       "\n",
       "    .dataframe thead th {\n",
       "        text-align: right;\n",
       "    }\n",
       "</style>\n",
       "<table border=\"1\" class=\"dataframe\">\n",
       "  <thead>\n",
       "    <tr style=\"text-align: right;\">\n",
       "      <th></th>\n",
       "      <th>url</th>\n",
       "    </tr>\n",
       "  </thead>\n",
       "  <tbody>\n",
       "    <tr>\n",
       "      <th>0</th>\n",
       "      <td>/Practical-Natural-Language-Processing-Pragmat...</td>\n",
       "    </tr>\n",
       "    <tr>\n",
       "      <th>1</th>\n",
       "      <td>/Practical-Hybrid-Natural-Language-Processing/...</td>\n",
       "    </tr>\n",
       "    <tr>\n",
       "      <th>2</th>\n",
       "      <td>/Natural-Language-Processing-Python-Analyzing/...</td>\n",
       "    </tr>\n",
       "    <tr>\n",
       "      <th>3</th>\n",
       "      <td>/Natural-Language-Processing-Action-Understand...</td>\n",
       "    </tr>\n",
       "    <tr>\n",
       "      <th>4</th>\n",
       "      <td>/Introduction-Language-Processing-Adaptive-Com...</td>\n",
       "    </tr>\n",
       "    <tr>\n",
       "      <th>5</th>\n",
       "      <td>/dp/B085C6LR8M?searchxofy=true&amp;binding=kindle_...</td>\n",
       "    </tr>\n",
       "    <tr>\n",
       "      <th>6</th>\n",
       "      <td>/Hands-Machine-Learning-Scikit-Learn-TensorFlo...</td>\n",
       "    </tr>\n",
       "    <tr>\n",
       "      <th>7</th>\n",
       "      <td>/Hands-Python-Natural-Language-Processing/dp/1...</td>\n",
       "    </tr>\n",
       "    <tr>\n",
       "      <th>8</th>\n",
       "      <td>/Natural-Language-Processing-PyTorch-Applicati...</td>\n",
       "    </tr>\n",
       "    <tr>\n",
       "      <th>9</th>\n",
       "      <td>/Language-Processing-Synthesis-Lectures-Techno...</td>\n",
       "    </tr>\n",
       "    <tr>\n",
       "      <th>10</th>\n",
       "      <td>/dp/B08KWCL6NN?searchxofy=true&amp;binding=kindle_...</td>\n",
       "    </tr>\n",
       "    <tr>\n",
       "      <th>11</th>\n",
       "      <td>/Natural-Language-Processing-Fundamentals-appl...</td>\n",
       "    </tr>\n",
       "    <tr>\n",
       "      <th>12</th>\n",
       "      <td>/Natural-Language-Processing-Python-spaCy/dp/1...</td>\n",
       "    </tr>\n",
       "    <tr>\n",
       "      <th>13</th>\n",
       "      <td>/Text-Analytics-Python-Practitioners-Processin...</td>\n",
       "    </tr>\n",
       "    <tr>\n",
       "      <th>14</th>\n",
       "      <td>/Applied-Text-Analysis-Python-Language-Aware/d...</td>\n",
       "    </tr>\n",
       "    <tr>\n",
       "      <th>15</th>\n",
       "      <td>/Natural-Language-Processing-Course-Beginners-...</td>\n",
       "    </tr>\n",
       "    <tr>\n",
       "      <th>16</th>\n",
       "      <td>/Linguistic-Fundamentals-Natural-Language-Proc...</td>\n",
       "    </tr>\n",
       "    <tr>\n",
       "      <th>17</th>\n",
       "      <td>/Speech-Language-Processing-Daniel-Jurafsky/dp...</td>\n",
       "    </tr>\n",
       "  </tbody>\n",
       "</table>\n",
       "</div>"
      ],
      "text/plain": [
       "                                                  url\n",
       "0   /Practical-Natural-Language-Processing-Pragmat...\n",
       "1   /Practical-Hybrid-Natural-Language-Processing/...\n",
       "2   /Natural-Language-Processing-Python-Analyzing/...\n",
       "3   /Natural-Language-Processing-Action-Understand...\n",
       "4   /Introduction-Language-Processing-Adaptive-Com...\n",
       "5   /dp/B085C6LR8M?searchxofy=true&binding=kindle_...\n",
       "6   /Hands-Machine-Learning-Scikit-Learn-TensorFlo...\n",
       "7   /Hands-Python-Natural-Language-Processing/dp/1...\n",
       "8   /Natural-Language-Processing-PyTorch-Applicati...\n",
       "9   /Language-Processing-Synthesis-Lectures-Techno...\n",
       "10  /dp/B08KWCL6NN?searchxofy=true&binding=kindle_...\n",
       "11  /Natural-Language-Processing-Fundamentals-appl...\n",
       "12  /Natural-Language-Processing-Python-spaCy/dp/1...\n",
       "13  /Text-Analytics-Python-Practitioners-Processin...\n",
       "14  /Applied-Text-Analysis-Python-Language-Aware/d...\n",
       "15  /Natural-Language-Processing-Course-Beginners-...\n",
       "16  /Linguistic-Fundamentals-Natural-Language-Proc...\n",
       "17  /Speech-Language-Processing-Daniel-Jurafsky/dp..."
      ]
     },
     "execution_count": 24,
     "metadata": {},
     "output_type": "execute_result"
    }
   ],
   "source": [
    "links"
   ]
  },
  {
   "cell_type": "code",
   "execution_count": 25,
   "metadata": {},
   "outputs": [],
   "source": [
    "links = links[~links['url'].str.contains(\"dbs_s_aps_series_rwt\")]\n",
    "links = links[~links['url'].str.contains(\"/gp/slredirect/\")]\n",
    "links = links[~links['url'].str.contains(\"https://\")]\n",
    "links = links[~links['url'].str.contains(\"/dp/B08L1JHRKZ\")]\n",
    "l_list = links['url'].to_list()"
   ]
  },
  {
   "cell_type": "code",
   "execution_count": 26,
   "metadata": {},
   "outputs": [
    {
     "data": {
      "text/html": [
       "<div>\n",
       "<style scoped>\n",
       "    .dataframe tbody tr th:only-of-type {\n",
       "        vertical-align: middle;\n",
       "    }\n",
       "\n",
       "    .dataframe tbody tr th {\n",
       "        vertical-align: top;\n",
       "    }\n",
       "\n",
       "    .dataframe thead th {\n",
       "        text-align: right;\n",
       "    }\n",
       "</style>\n",
       "<table border=\"1\" class=\"dataframe\">\n",
       "  <thead>\n",
       "    <tr style=\"text-align: right;\">\n",
       "      <th></th>\n",
       "      <th>title</th>\n",
       "      <th>image</th>\n",
       "      <th>classification</th>\n",
       "      <th>url</th>\n",
       "      <th>reviews</th>\n",
       "    </tr>\n",
       "  </thead>\n",
       "  <tbody>\n",
       "  </tbody>\n",
       "</table>\n",
       "</div>"
      ],
      "text/plain": [
       "Empty DataFrame\n",
       "Columns: [title, image, classification, url, reviews]\n",
       "Index: []"
      ]
     },
     "execution_count": 26,
     "metadata": {},
     "output_type": "execute_result"
    }
   ],
   "source": [
    "plan = pd.DataFrame(columns = ['title', 'image','classification','url','reviews'])\n",
    "# plan = pd.DataFrame(columns = ['reviews','url'])\n",
    "plan"
   ]
  },
  {
   "cell_type": "code",
   "execution_count": 28,
   "metadata": {},
   "outputs": [
    {
     "data": {
      "text/plain": [
       "612"
      ]
     },
     "execution_count": 28,
     "metadata": {},
     "output_type": "execute_result"
    }
   ],
   "source": [
    "len(l_list)"
   ]
  },
  {
   "cell_type": "code",
   "execution_count": 29,
   "metadata": {},
   "outputs": [
    {
     "data": {
      "text/plain": [
       "['/Practical-Natural-Language-Processing-Pragmatic/dp/1492054054/ref=sr_1_1?dchild=1&keywords=natural+language+processing&qid=1604932463&sr=8-1']"
      ]
     },
     "execution_count": 29,
     "metadata": {},
     "output_type": "execute_result"
    }
   ],
   "source": [
    "l = l_list[0:1]\n",
    "l"
   ]
  },
  {
   "cell_type": "code",
   "execution_count": 30,
   "metadata": {},
   "outputs": [
    {
     "name": "stdout",
     "output_type": "stream",
     "text": [
      "Url: \"https://www.amazon.com/Practical-Natural-Language-Processing-Pragmatic/dp/1492054054/ref=sr_1_1?dchild=1&keywords=natural+language+processing&qid=1604932463&sr=8-1\", iniciando extração dos dados.\n",
      "Extração da URL concluída\n"
     ]
    }
   ],
   "source": [
    "erros = []\n",
    "for link in l:\n",
    "    try:\n",
    "        data = dict()\n",
    "        driver = webdriver.Firefox(executable_path=r'C:/Users/Gustavo/Desktop/curso_de_python/Scrapping/rec_books/geckodriver.exe')\n",
    "        url = \"https://www.amazon.com{}\".format(link)\n",
    "        driver.get(url)\n",
    "        soup = BeautifulSoup(driver.page_source)\n",
    "        print('Url: \"{}\", iniciando extração dos dados.'.format(url))\n",
    "        try:\n",
    "            reviews = soup.find('span', id = 'acrCustomerReviewText').text.strip()\n",
    "            if len(reviews) == 12:\n",
    "                rev = reviews[0:4]\n",
    "            elif len(reviews) == 11:\n",
    "                rev = reviews[0:3]\n",
    "            elif len(reviews) == 10:\n",
    "                rev = reviews[0:2]\n",
    "            else:\n",
    "                rev = reviews[0:1]\n",
    "            data['reviews'] = rev\n",
    "        except:\n",
    "            data['reviews'] = 'No Reviews Yet'\n",
    "        titulo = soup.find('span', class_ = 'a-size-extra-large').text.strip()\n",
    "        data['title'] = titulo\n",
    "#         img = soup.find('img', id = 'imgBlkFront')\n",
    "        if soup.find('img', id = 'imgBlkFront') == None:\n",
    "            img = soup.find('img', id = 'ebooksImgBlkFront')\n",
    "#                 if soup.find('img', class_ = 'a-dynamic-image image-stretch-horizontal frontImage a-stretch-vertical') == None:\n",
    "#                     img = soup.find('img', class_ = 'a-dynamic-image image-stretch-vertical frontImage a-stretch-vertical')    \n",
    "#         elif soup.find('img', class_ = 'a-dynamic-image a-stretch-vertical') == None:\n",
    "#             if soup.find('img', class_ = 'a-dynamic-image frontImage') == None:\n",
    "#                 img = soup.find('img', class_ = 'a-dynamic-image image-stretch-horizontal frontImage a-stretch-vertical')\n",
    "#         elif soup.find('img', class_ = 'a-dynamic-image a-stretch-vertical') == None:\n",
    "#             img = soup.find('img', class_ = 'a-dynamic-image frontImage')\n",
    "        else:\n",
    "            img = soup.find('img', id = 'imgBlkFront')\n",
    "        data['image'] = img.get('src')\n",
    "        try:\n",
    "            star = soup.find('span', class_ = 'a-size-medium a-color-base').text\n",
    "            if len(star) == 12:\n",
    "                star_c = star[0:3]\n",
    "            else:\n",
    "                star_c = star[0]\n",
    "            data['classification'] = star_c\n",
    "        except:\n",
    "            data['classification'] = 'Erro Link Image'\n",
    "        data['url'] = url\n",
    "        driver.close()\n",
    "        plan = plan.append(data, ignore_index = True)\n",
    "        print('Extração da URL concluída')\n",
    "        time.sleep(2)\n",
    "    except (AttributeError, InvalidSessionIdException, TimeoutException) as e:\n",
    "        erros.append(link)\n",
    "        driver.close()\n",
    "        print('Erro no link: {}'.format(link), '\\n', e)\n",
    "        pass"
   ]
  },
  {
   "cell_type": "code",
   "execution_count": 33,
   "metadata": {},
   "outputs": [],
   "source": [
    "reviews = soup.find('span', id = 'acrCustomerReviewText').text.strip()"
   ]
  },
  {
   "cell_type": "code",
   "execution_count": 34,
   "metadata": {},
   "outputs": [
    {
     "data": {
      "text/plain": [
       "'46 ratings'"
      ]
     },
     "execution_count": 34,
     "metadata": {},
     "output_type": "execute_result"
    }
   ],
   "source": [
    "reviews"
   ]
  },
  {
   "cell_type": "code",
   "execution_count": 31,
   "metadata": {},
   "outputs": [
    {
     "data": {
      "text/html": [
       "<div>\n",
       "<style scoped>\n",
       "    .dataframe tbody tr th:only-of-type {\n",
       "        vertical-align: middle;\n",
       "    }\n",
       "\n",
       "    .dataframe tbody tr th {\n",
       "        vertical-align: top;\n",
       "    }\n",
       "\n",
       "    .dataframe thead th {\n",
       "        text-align: right;\n",
       "    }\n",
       "</style>\n",
       "<table border=\"1\" class=\"dataframe\">\n",
       "  <thead>\n",
       "    <tr style=\"text-align: right;\">\n",
       "      <th></th>\n",
       "      <th>title</th>\n",
       "      <th>image</th>\n",
       "      <th>classification</th>\n",
       "      <th>url</th>\n",
       "      <th>reviews</th>\n",
       "    </tr>\n",
       "  </thead>\n",
       "  <tbody>\n",
       "    <tr>\n",
       "      <th>0</th>\n",
       "      <td>Practical Natural Language Processing: A Compr...</td>\n",
       "      <td>https://images-na.ssl-images-amazon.com/images...</td>\n",
       "      <td>4.2</td>\n",
       "      <td>https://www.amazon.com/Practical-Natural-Langu...</td>\n",
       "      <td>46</td>\n",
       "    </tr>\n",
       "    <tr>\n",
       "      <th>1</th>\n",
       "      <td>A Practical Guide to Hybrid Natural Language P...</td>\n",
       "      <td>https://images-na.ssl-images-amazon.com/images...</td>\n",
       "      <td>4.4</td>\n",
       "      <td>https://www.amazon.com/Practical-Hybrid-Natura...</td>\n",
       "      <td>3</td>\n",
       "    </tr>\n",
       "    <tr>\n",
       "      <th>2</th>\n",
       "      <td>Natural Language Processing with Python: Analy...</td>\n",
       "      <td>https://images-na.ssl-images-amazon.com/images...</td>\n",
       "      <td>4.3</td>\n",
       "      <td>https://www.amazon.com/Natural-Language-Proces...</td>\n",
       "      <td>113</td>\n",
       "    </tr>\n",
       "    <tr>\n",
       "      <th>3</th>\n",
       "      <td>Practical Natural Language Processing: A Compr...</td>\n",
       "      <td>https://images-na.ssl-images-amazon.com/images...</td>\n",
       "      <td>4.2</td>\n",
       "      <td>https://www.amazon.com/Practical-Natural-Langu...</td>\n",
       "      <td>46</td>\n",
       "    </tr>\n",
       "  </tbody>\n",
       "</table>\n",
       "</div>"
      ],
      "text/plain": [
       "                                               title  \\\n",
       "0  Practical Natural Language Processing: A Compr...   \n",
       "1  A Practical Guide to Hybrid Natural Language P...   \n",
       "2  Natural Language Processing with Python: Analy...   \n",
       "3  Practical Natural Language Processing: A Compr...   \n",
       "\n",
       "                                               image classification  \\\n",
       "0  https://images-na.ssl-images-amazon.com/images...            4.2   \n",
       "1  https://images-na.ssl-images-amazon.com/images...            4.4   \n",
       "2  https://images-na.ssl-images-amazon.com/images...            4.3   \n",
       "3  https://images-na.ssl-images-amazon.com/images...            4.2   \n",
       "\n",
       "                                                 url reviews  \n",
       "0  https://www.amazon.com/Practical-Natural-Langu...      46  \n",
       "1  https://www.amazon.com/Practical-Hybrid-Natura...       3  \n",
       "2  https://www.amazon.com/Natural-Language-Proces...     113  \n",
       "3  https://www.amazon.com/Practical-Natural-Langu...      46  "
      ]
     },
     "execution_count": 31,
     "metadata": {},
     "output_type": "execute_result"
    }
   ],
   "source": [
    "plan"
   ]
  },
  {
   "cell_type": "code",
   "execution_count": 24,
   "metadata": {},
   "outputs": [
    {
     "data": {
      "text/plain": [
       "['/Natural-Language-Processing-Recipes-Unlocking-ebook/dp/B07N81V3D1/ref=sr_1_34?dchild=1&keywords=natural+language+processing&qid=1603049159&sr=8-34',\n",
       " '/Programming-Your-Sentiment-Classifier-Using/dp/B07DF8NYFQ/ref=sr_1_35?dchild=1&keywords=natural+language+processing&qid=1603049159&sr=8-35',\n",
       " '/Introduction-Information-Theory-Symbols-Signals/dp/B07YF2NV71/ref=sr_1_37?dchild=1&keywords=natural+language+processing&qid=1603049159&sr=8-37']"
      ]
     },
     "execution_count": 24,
     "metadata": {},
     "output_type": "execute_result"
    }
   ],
   "source": [
    "erros"
   ]
  },
  {
   "cell_type": "code",
   "execution_count": 54,
   "metadata": {},
   "outputs": [],
   "source": [
    "err = pd.DataFrame(erros)\n",
    "err.to_excel('erros2.xlsx')"
   ]
  },
  {
   "cell_type": "code",
   "execution_count": 63,
   "metadata": {},
   "outputs": [],
   "source": [
    "plan.to_excel('novos dados2.xlsx')"
   ]
  },
  {
   "cell_type": "code",
   "execution_count": 15,
   "metadata": {},
   "outputs": [
    {
     "data": {
      "text/plain": [
       "'/Hands-Mathematics-Deep-Learning-mathematical/dp/1838647295/ref=sr_1_14?dchild=1&keywords=machine+learning&qid=1602452566&sr=8-14'"
      ]
     },
     "execution_count": 15,
     "metadata": {},
     "output_type": "execute_result"
    }
   ],
   "source": [
    "l_list = links['0'].to_list()\n",
    "url = l_list[12]\n",
    "url"
   ]
  },
  {
   "cell_type": "code",
   "execution_count": 35,
   "metadata": {},
   "outputs": [],
   "source": [
    "import os\n",
    "path = os.getcwd()\n",
    "final_path = os.path.join(path, 'chromedriver')\n",
    "driver = webdriver.Chrome(executable_path = final_path)\n",
    "url_1 = 'https://www.amazon.com/Natural-Language-Processing-Python-Analyzing/dp/0596516495/ref=sr_1_3?dchild=1&keywords=natural+language+processing&qid=1604935719&sr=8-3'\n",
    "driver.get(url_1)\n",
    "soup = BeautifulSoup(driver.page_source)\n",
    "driver.close()"
   ]
  },
  {
   "cell_type": "code",
   "execution_count": 1,
   "metadata": {},
   "outputs": [
    {
     "data": {
      "text/plain": [
       "'C:\\\\Users\\\\Gustavo\\\\Desktop\\\\curso_de_python\\\\Scrapping\\\\rec_books\\\\chromedriver.exe'"
      ]
     },
     "execution_count": 1,
     "metadata": {},
     "output_type": "execute_result"
    }
   ],
   "source": [
    "import os\n",
    "path = os.getcwd()\n",
    "final_path = os.path.join(path, 'chromedriver.exe')\n",
    "final_path\n",
    "# 'C:/Users/Gustavo/Desktop/curso_de_python/Scrapping/Sites/chromedriver'"
   ]
  },
  {
   "cell_type": "code",
   "execution_count": 2,
   "metadata": {},
   "outputs": [
    {
     "data": {
      "text/plain": [
       "'C:\\\\Users\\\\Gustavo\\\\Desktop\\\\curso_de_python\\\\Scrapping\\\\rec_books'"
      ]
     },
     "execution_count": 2,
     "metadata": {},
     "output_type": "execute_result"
    }
   ],
   "source": [
    "path"
   ]
  },
  {
   "cell_type": "code",
   "execution_count": 36,
   "metadata": {},
   "outputs": [
    {
     "data": {
      "text/plain": [
       "'Grokking Deep Learning'"
      ]
     },
     "execution_count": 36,
     "metadata": {},
     "output_type": "execute_result"
    }
   ],
   "source": [
    "titulo = soup.find('span', class_ = 'a-size-extra-large').text.strip()\n",
    "titulo"
   ]
  },
  {
   "cell_type": "code",
   "execution_count": 37,
   "metadata": {},
   "outputs": [
    {
     "data": {
      "text/plain": [
       "'2 ratings'"
      ]
     },
     "execution_count": 37,
     "metadata": {},
     "output_type": "execute_result"
    }
   ],
   "source": [
    "reviews"
   ]
  },
  {
   "cell_type": "code",
   "execution_count": 38,
   "metadata": {},
   "outputs": [
    {
     "data": {
      "text/plain": [
       "'56'"
      ]
     },
     "execution_count": 38,
     "metadata": {},
     "output_type": "execute_result"
    }
   ],
   "source": [
    "reviews = soup.find('span', id = 'acrCustomerReviewText').text.strip()\n",
    "if len(reviews) == 12:\n",
    "    rev = reviews[0:4]\n",
    "elif len(reviews) == 11:\n",
    "    rev = reviews[0:3]\n",
    "elif len(reviews) == 10:\n",
    "    rev = reviews[0:2]\n",
    "else:\n",
    "    rev = reviews[0:1]\n",
    "    \n",
    "rev"
   ]
  },
  {
   "cell_type": "code",
   "execution_count": 38,
   "metadata": {},
   "outputs": [
    {
     "data": {
      "text/plain": [
       "'https://images-na.ssl-images-amazon.com/images/I/51id5aD92ML._SX379_BO1,204,203,200_.jpg'"
      ]
     },
     "execution_count": 38,
     "metadata": {},
     "output_type": "execute_result"
    }
   ],
   "source": [
    "if soup.find('img', id = 'imgBlkFront', class_ = 'a-dynamic-image a-stretch-vertical') == None:\n",
    "    img = soup.find('img', id = 'ebooksImgBlkFront', class_ = 'a-dynamic-image a-stretch-vertical').get('src')\n",
    "else:\n",
    "    img = soup.find('img', id = 'imgBlkFront', class_ = 'a-dynamic-image a-stretch-vertical').get('src')\n",
    "img_l = img\n",
    "img_l"
   ]
  },
  {
   "cell_type": "code",
   "execution_count": 70,
   "metadata": {},
   "outputs": [
    {
     "data": {
      "text/plain": [
       "'4.8'"
      ]
     },
     "execution_count": 70,
     "metadata": {},
     "output_type": "execute_result"
    }
   ],
   "source": [
    "star = soup.find('span', class_ = 'a-size-medium a-color-base').text\n",
    "if len(star) == 12:\n",
    "    star_c = star[0:3]\n",
    "else:\n",
    "    star_c = star[0]\n",
    "\n",
    "star_c"
   ]
  },
  {
   "cell_type": "code",
   "execution_count": 63,
   "metadata": {},
   "outputs": [
    {
     "data": {
      "text/plain": [
       "12"
      ]
     },
     "execution_count": 63,
     "metadata": {},
     "output_type": "execute_result"
    }
   ],
   "source": [
    "len(star)"
   ]
  },
  {
   "cell_type": "code",
   "execution_count": 75,
   "metadata": {},
   "outputs": [
    {
     "name": "stdout",
     "output_type": "stream",
     "text": [
      "askdj \n",
      " aa\n"
     ]
    }
   ],
   "source": [
    "print('askdj', '\\n', 'aa')"
   ]
  },
  {
   "cell_type": "code",
   "execution_count": 53,
   "metadata": {},
   "outputs": [
    {
     "data": {
      "text/plain": [
       "'›'"
      ]
     },
     "execution_count": 53,
     "metadata": {},
     "output_type": "execute_result"
    }
   ],
   "source": [
    "best_s = soup.find('span', class_ = 'a-text-bold').text.strip()\n",
    "best_s"
   ]
  },
  {
   "cell_type": "code",
   "execution_count": null,
   "metadata": {},
   "outputs": [],
   "source": []
  }
 ],
 "metadata": {
  "kernelspec": {
   "display_name": "Python 3",
   "language": "python",
   "name": "python3"
  },
  "language_info": {
   "codemirror_mode": {
    "name": "ipython",
    "version": 3
   },
   "file_extension": ".py",
   "mimetype": "text/x-python",
   "name": "python",
   "nbconvert_exporter": "python",
   "pygments_lexer": "ipython3",
   "version": "3.7.7"
  }
 },
 "nbformat": 4,
 "nbformat_minor": 4
}
